{
 "cells": [
  {
   "cell_type": "markdown",
   "id": "d2815156",
   "metadata": {},
   "source": [
    "# Forecasting weather "
   ]
  },
  {
   "cell_type": "markdown",
   "id": "1cf52783",
   "metadata": {},
   "source": [
    "<i>You work as a data scientist with a small team of data scientists for a cargo shipping company based in Finland. 90% of goods are imported into Finland via cargo shipping. You are tasked with saving 20% of the costs for cargo operations at the port of Turku, Finland. This can be achieved by developing an ML solution that predicts weather conditions at the port 4 hours in advance. You need to monitor for possible rainy conditions, which can distort operations at the port with human resources and transportation, which in turn affects supply chain operations at the port. Your ML solution will help port authorities to predict possible rain 4 hours in advance; this will save 20% of costs and enable smooth supply chain operations at the port.</i><p>\n",
    "Reference: Engineering MLOps, by Emmanuel Raj. O'Reilly"
   ]
  },
  {
   "cell_type": "code",
   "execution_count": 4,
   "id": "ee252a4d",
   "metadata": {},
   "outputs": [],
   "source": [
    "%matplotlib inline\n",
    "import pandas as pd\n",
    "import numpy as np\n",
    "from matplotlib import pyplot as plt\n",
    "from matplotlib.pyplot import figure\n",
    "import seaborn as sns\n",
    "\n",
    "#import dataset, which can be downloaded from GitHub (http://github.com/amfarahani/ANA680)\n",
    "\n",
    "df = pd.read_csv('C:\\\\Users\\\\amf\\\\Google Drive\\\\National\\\\ANA680\\\\DataSetSources\\\\weather_dataset_raw.csv')\n"
   ]
  },
  {
   "cell_type": "code",
   "execution_count": 2,
   "id": "d6b1c872",
   "metadata": {},
   "outputs": [
    {
     "data": {
      "text/plain": [
       "Index(['S_No', 'Timestamp', 'Location', 'Temperature_C',\n",
       "       'Apparent_Temperature_C', 'Humidity', 'Wind_speed_kmph',\n",
       "       'Wind_bearing_degrees', 'Visibility_km', 'Pressure_millibars',\n",
       "       'Weather_conditions'],\n",
       "      dtype='object')"
      ]
     },
     "execution_count": 2,
     "metadata": {},
     "output_type": "execute_result"
    }
   ],
   "source": [
    "df.columns # List column names"
   ]
  },
  {
   "cell_type": "code",
   "execution_count": 3,
   "id": "18903991",
   "metadata": {},
   "outputs": [
    {
     "data": {
      "text/plain": [
       "(96453, 11)"
      ]
     },
     "execution_count": 3,
     "metadata": {},
     "output_type": "execute_result"
    }
   ],
   "source": [
    "df.shape # Number of columns (features) and records (observations)"
   ]
  },
  {
   "cell_type": "code",
   "execution_count": 4,
   "id": "3b325633",
   "metadata": {},
   "outputs": [
    {
     "data": {
      "text/html": [
       "<div>\n",
       "<style scoped>\n",
       "    .dataframe tbody tr th:only-of-type {\n",
       "        vertical-align: middle;\n",
       "    }\n",
       "\n",
       "    .dataframe tbody tr th {\n",
       "        vertical-align: top;\n",
       "    }\n",
       "\n",
       "    .dataframe thead th {\n",
       "        text-align: right;\n",
       "    }\n",
       "</style>\n",
       "<table border=\"1\" class=\"dataframe\">\n",
       "  <thead>\n",
       "    <tr style=\"text-align: right;\">\n",
       "      <th></th>\n",
       "      <th>S_No</th>\n",
       "      <th>Timestamp</th>\n",
       "      <th>Location</th>\n",
       "      <th>Temperature_C</th>\n",
       "      <th>Apparent_Temperature_C</th>\n",
       "      <th>Humidity</th>\n",
       "      <th>Wind_speed_kmph</th>\n",
       "      <th>Wind_bearing_degrees</th>\n",
       "      <th>Visibility_km</th>\n",
       "      <th>Pressure_millibars</th>\n",
       "      <th>Weather_conditions</th>\n",
       "    </tr>\n",
       "  </thead>\n",
       "  <tbody>\n",
       "    <tr>\n",
       "      <th>0</th>\n",
       "      <td>0</td>\n",
       "      <td>2006-04-01 00:00:00+02:00</td>\n",
       "      <td>Port of Turku, Finland</td>\n",
       "      <td>9.472222</td>\n",
       "      <td>7.388889</td>\n",
       "      <td>0.89</td>\n",
       "      <td>14.1197</td>\n",
       "      <td>251</td>\n",
       "      <td>15.8263</td>\n",
       "      <td>1015.13</td>\n",
       "      <td>rain</td>\n",
       "    </tr>\n",
       "    <tr>\n",
       "      <th>1</th>\n",
       "      <td>1</td>\n",
       "      <td>2006-04-01 01:00:00+02:00</td>\n",
       "      <td>Port of Turku, Finland</td>\n",
       "      <td>9.355556</td>\n",
       "      <td>7.227778</td>\n",
       "      <td>0.86</td>\n",
       "      <td>14.2646</td>\n",
       "      <td>259</td>\n",
       "      <td>15.8263</td>\n",
       "      <td>1015.63</td>\n",
       "      <td>rain</td>\n",
       "    </tr>\n",
       "    <tr>\n",
       "      <th>2</th>\n",
       "      <td>2</td>\n",
       "      <td>2006-04-01 02:00:00+02:00</td>\n",
       "      <td>Port of Turku, Finland</td>\n",
       "      <td>9.377778</td>\n",
       "      <td>9.377778</td>\n",
       "      <td>0.89</td>\n",
       "      <td>3.9284</td>\n",
       "      <td>204</td>\n",
       "      <td>14.9569</td>\n",
       "      <td>1015.94</td>\n",
       "      <td>rain</td>\n",
       "    </tr>\n",
       "  </tbody>\n",
       "</table>\n",
       "</div>"
      ],
      "text/plain": [
       "   S_No                  Timestamp                Location  Temperature_C  \\\n",
       "0     0  2006-04-01 00:00:00+02:00  Port of Turku, Finland       9.472222   \n",
       "1     1  2006-04-01 01:00:00+02:00  Port of Turku, Finland       9.355556   \n",
       "2     2  2006-04-01 02:00:00+02:00  Port of Turku, Finland       9.377778   \n",
       "\n",
       "   Apparent_Temperature_C  Humidity  Wind_speed_kmph  Wind_bearing_degrees  \\\n",
       "0                7.388889      0.89          14.1197                   251   \n",
       "1                7.227778      0.86          14.2646                   259   \n",
       "2                9.377778      0.89           3.9284                   204   \n",
       "\n",
       "   Visibility_km  Pressure_millibars Weather_conditions  \n",
       "0        15.8263             1015.13               rain  \n",
       "1        15.8263             1015.63               rain  \n",
       "2        14.9569             1015.94               rain  "
      ]
     },
     "execution_count": 4,
     "metadata": {},
     "output_type": "execute_result"
    }
   ],
   "source": [
    "df.head(3) # Inspect feature values"
   ]
  },
  {
   "cell_type": "code",
   "execution_count": 5,
   "id": "10e968f9",
   "metadata": {},
   "outputs": [
    {
     "name": "stdout",
     "output_type": "stream",
     "text": [
      "<class 'pandas.core.frame.DataFrame'>\n",
      "RangeIndex: 96453 entries, 0 to 96452\n",
      "Data columns (total 11 columns):\n",
      " #   Column                  Non-Null Count  Dtype  \n",
      "---  ------                  --------------  -----  \n",
      " 0   S_No                    96453 non-null  int64  \n",
      " 1   Timestamp               96453 non-null  object \n",
      " 2   Location                96453 non-null  object \n",
      " 3   Temperature_C           96453 non-null  float64\n",
      " 4   Apparent_Temperature_C  96453 non-null  float64\n",
      " 5   Humidity                96453 non-null  float64\n",
      " 6   Wind_speed_kmph         96453 non-null  float64\n",
      " 7   Wind_bearing_degrees    96453 non-null  int64  \n",
      " 8   Visibility_km           96453 non-null  float64\n",
      " 9   Pressure_millibars      96453 non-null  float64\n",
      " 10  Weather_conditions      96448 non-null  object \n",
      "dtypes: float64(6), int64(2), object(3)\n",
      "memory usage: 8.1+ MB\n"
     ]
    }
   ],
   "source": [
    "df.info() # Inspect data types and existence of null values. Null values in feature \"Weather_conditions\""
   ]
  },
  {
   "cell_type": "code",
   "execution_count": 6,
   "id": "5bf62b14",
   "metadata": {},
   "outputs": [
    {
     "data": {
      "text/html": [
       "<div>\n",
       "<style scoped>\n",
       "    .dataframe tbody tr th:only-of-type {\n",
       "        vertical-align: middle;\n",
       "    }\n",
       "\n",
       "    .dataframe tbody tr th {\n",
       "        vertical-align: top;\n",
       "    }\n",
       "\n",
       "    .dataframe thead th {\n",
       "        text-align: right;\n",
       "    }\n",
       "</style>\n",
       "<table border=\"1\" class=\"dataframe\">\n",
       "  <thead>\n",
       "    <tr style=\"text-align: right;\">\n",
       "      <th></th>\n",
       "      <th>S_No</th>\n",
       "      <th>Temperature_C</th>\n",
       "      <th>Apparent_Temperature_C</th>\n",
       "      <th>Humidity</th>\n",
       "      <th>Wind_speed_kmph</th>\n",
       "      <th>Wind_bearing_degrees</th>\n",
       "      <th>Visibility_km</th>\n",
       "      <th>Pressure_millibars</th>\n",
       "    </tr>\n",
       "  </thead>\n",
       "  <tbody>\n",
       "    <tr>\n",
       "      <th>count</th>\n",
       "      <td>96453.000000</td>\n",
       "      <td>96453.000000</td>\n",
       "      <td>96453.000000</td>\n",
       "      <td>96453.000000</td>\n",
       "      <td>96453.000000</td>\n",
       "      <td>96453.000000</td>\n",
       "      <td>96453.000000</td>\n",
       "      <td>96453.000000</td>\n",
       "    </tr>\n",
       "    <tr>\n",
       "      <th>mean</th>\n",
       "      <td>48226.000000</td>\n",
       "      <td>11.932678</td>\n",
       "      <td>10.855029</td>\n",
       "      <td>0.734899</td>\n",
       "      <td>10.810640</td>\n",
       "      <td>187.509232</td>\n",
       "      <td>10.347325</td>\n",
       "      <td>1003.235956</td>\n",
       "    </tr>\n",
       "    <tr>\n",
       "      <th>std</th>\n",
       "      <td>27843.727094</td>\n",
       "      <td>9.551546</td>\n",
       "      <td>10.696847</td>\n",
       "      <td>0.195473</td>\n",
       "      <td>6.913571</td>\n",
       "      <td>107.383428</td>\n",
       "      <td>4.192123</td>\n",
       "      <td>116.969906</td>\n",
       "    </tr>\n",
       "    <tr>\n",
       "      <th>min</th>\n",
       "      <td>0.000000</td>\n",
       "      <td>-21.822222</td>\n",
       "      <td>-27.716667</td>\n",
       "      <td>0.000000</td>\n",
       "      <td>0.000000</td>\n",
       "      <td>0.000000</td>\n",
       "      <td>0.000000</td>\n",
       "      <td>0.000000</td>\n",
       "    </tr>\n",
       "    <tr>\n",
       "      <th>25%</th>\n",
       "      <td>24113.000000</td>\n",
       "      <td>4.688889</td>\n",
       "      <td>2.311111</td>\n",
       "      <td>0.600000</td>\n",
       "      <td>5.828200</td>\n",
       "      <td>116.000000</td>\n",
       "      <td>8.339800</td>\n",
       "      <td>1011.900000</td>\n",
       "    </tr>\n",
       "    <tr>\n",
       "      <th>50%</th>\n",
       "      <td>48226.000000</td>\n",
       "      <td>12.000000</td>\n",
       "      <td>12.000000</td>\n",
       "      <td>0.780000</td>\n",
       "      <td>9.965900</td>\n",
       "      <td>180.000000</td>\n",
       "      <td>10.046400</td>\n",
       "      <td>1016.450000</td>\n",
       "    </tr>\n",
       "    <tr>\n",
       "      <th>75%</th>\n",
       "      <td>72339.000000</td>\n",
       "      <td>18.838889</td>\n",
       "      <td>18.838889</td>\n",
       "      <td>0.890000</td>\n",
       "      <td>14.135800</td>\n",
       "      <td>290.000000</td>\n",
       "      <td>14.812000</td>\n",
       "      <td>1021.090000</td>\n",
       "    </tr>\n",
       "    <tr>\n",
       "      <th>max</th>\n",
       "      <td>96452.000000</td>\n",
       "      <td>39.905556</td>\n",
       "      <td>39.344444</td>\n",
       "      <td>1.000000</td>\n",
       "      <td>63.852600</td>\n",
       "      <td>359.000000</td>\n",
       "      <td>16.100000</td>\n",
       "      <td>1046.380000</td>\n",
       "    </tr>\n",
       "  </tbody>\n",
       "</table>\n",
       "</div>"
      ],
      "text/plain": [
       "               S_No  Temperature_C  Apparent_Temperature_C      Humidity  \\\n",
       "count  96453.000000   96453.000000            96453.000000  96453.000000   \n",
       "mean   48226.000000      11.932678               10.855029      0.734899   \n",
       "std    27843.727094       9.551546               10.696847      0.195473   \n",
       "min        0.000000     -21.822222              -27.716667      0.000000   \n",
       "25%    24113.000000       4.688889                2.311111      0.600000   \n",
       "50%    48226.000000      12.000000               12.000000      0.780000   \n",
       "75%    72339.000000      18.838889               18.838889      0.890000   \n",
       "max    96452.000000      39.905556               39.344444      1.000000   \n",
       "\n",
       "       Wind_speed_kmph  Wind_bearing_degrees  Visibility_km  \\\n",
       "count     96453.000000          96453.000000   96453.000000   \n",
       "mean         10.810640            187.509232      10.347325   \n",
       "std           6.913571            107.383428       4.192123   \n",
       "min           0.000000              0.000000       0.000000   \n",
       "25%           5.828200            116.000000       8.339800   \n",
       "50%           9.965900            180.000000      10.046400   \n",
       "75%          14.135800            290.000000      14.812000   \n",
       "max          63.852600            359.000000      16.100000   \n",
       "\n",
       "       Pressure_millibars  \n",
       "count        96453.000000  \n",
       "mean          1003.235956  \n",
       "std            116.969906  \n",
       "min              0.000000  \n",
       "25%           1011.900000  \n",
       "50%           1016.450000  \n",
       "75%           1021.090000  \n",
       "max           1046.380000  "
      ]
     },
     "execution_count": 6,
     "metadata": {},
     "output_type": "execute_result"
    }
   ],
   "source": [
    "df.describe() # Examine statistics of numeric features. Check values"
   ]
  },
  {
   "cell_type": "code",
   "execution_count": 7,
   "id": "06a88b5b",
   "metadata": {},
   "outputs": [],
   "source": [
    "df['Timestamp'] = pd.to_datetime(df['Timestamp'])# feature \"Timestamp\" must be converted to datetime object"
   ]
  },
  {
   "cell_type": "code",
   "execution_count": 8,
   "id": "d47665e7",
   "metadata": {},
   "outputs": [
    {
     "data": {
      "text/plain": [
       "0    2006-04-01 00:00:00+02:00\n",
       "1    2006-04-01 01:00:00+02:00\n",
       "Name: Timestamp, dtype: object"
      ]
     },
     "execution_count": 8,
     "metadata": {},
     "output_type": "execute_result"
    }
   ],
   "source": [
    "df['Timestamp'].head(2)"
   ]
  },
  {
   "cell_type": "code",
   "execution_count": 9,
   "id": "f671492f",
   "metadata": {},
   "outputs": [
    {
     "name": "stdout",
     "output_type": "stream",
     "text": [
      "<class 'pandas.core.frame.DataFrame'>\n",
      "RangeIndex: 96453 entries, 0 to 96452\n",
      "Data columns (total 11 columns):\n",
      " #   Column                  Non-Null Count  Dtype  \n",
      "---  ------                  --------------  -----  \n",
      " 0   S_No                    96453 non-null  int64  \n",
      " 1   Timestamp               96453 non-null  object \n",
      " 2   Location                96453 non-null  object \n",
      " 3   Temperature_C           96453 non-null  float64\n",
      " 4   Apparent_Temperature_C  96453 non-null  float64\n",
      " 5   Humidity                96453 non-null  float64\n",
      " 6   Wind_speed_kmph         96453 non-null  float64\n",
      " 7   Wind_bearing_degrees    96453 non-null  int64  \n",
      " 8   Visibility_km           96453 non-null  float64\n",
      " 9   Pressure_millibars      96453 non-null  float64\n",
      " 10  Weather_conditions      96448 non-null  object \n",
      "dtypes: float64(6), int64(2), object(3)\n",
      "memory usage: 8.1+ MB\n"
     ]
    }
   ],
   "source": [
    "df.info()"
   ]
  },
  {
   "cell_type": "code",
   "execution_count": 10,
   "id": "1a009203",
   "metadata": {},
   "outputs": [
    {
     "data": {
      "text/plain": [
       "True"
      ]
     },
     "execution_count": 10,
     "metadata": {},
     "output_type": "execute_result"
    }
   ],
   "source": [
    "df.isnull().values.any() # Check if the dataset has any null values"
   ]
  },
  {
   "cell_type": "code",
   "execution_count": 11,
   "id": "98af8274",
   "metadata": {},
   "outputs": [
    {
     "data": {
      "text/plain": [
       "S_No                      0\n",
       "Timestamp                 0\n",
       "Location                  0\n",
       "Temperature_C             0\n",
       "Apparent_Temperature_C    0\n",
       "Humidity                  0\n",
       "Wind_speed_kmph           0\n",
       "Wind_bearing_degrees      0\n",
       "Visibility_km             0\n",
       "Pressure_millibars        0\n",
       "Weather_conditions        5\n",
       "dtype: int64"
      ]
     },
     "execution_count": 11,
     "metadata": {},
     "output_type": "execute_result"
    }
   ],
   "source": [
    "df.isna().sum()  # How many null values?  Five null values in the \"Weather_condition\" feature."
   ]
  },
  {
   "cell_type": "code",
   "execution_count": 12,
   "id": "e6176f81",
   "metadata": {},
   "outputs": [
    {
     "data": {
      "text/plain": [
       "array([    3,   116,   222, 94717, 94722], dtype=int64)"
      ]
     },
     "execution_count": 12,
     "metadata": {},
     "output_type": "execute_result"
    }
   ],
   "source": [
    "df.loc[pd.isnull(df).any(1), :].index.values  # index of rows with NA"
   ]
  },
  {
   "cell_type": "code",
   "execution_count": 13,
   "id": "2e0d361e",
   "metadata": {
    "scrolled": false
   },
   "outputs": [
    {
     "data": {
      "text/html": [
       "<div>\n",
       "<style scoped>\n",
       "    .dataframe tbody tr th:only-of-type {\n",
       "        vertical-align: middle;\n",
       "    }\n",
       "\n",
       "    .dataframe tbody tr th {\n",
       "        vertical-align: top;\n",
       "    }\n",
       "\n",
       "    .dataframe thead th {\n",
       "        text-align: right;\n",
       "    }\n",
       "</style>\n",
       "<table border=\"1\" class=\"dataframe\">\n",
       "  <thead>\n",
       "    <tr style=\"text-align: right;\">\n",
       "      <th></th>\n",
       "      <th>S_No</th>\n",
       "      <th>Timestamp</th>\n",
       "      <th>Location</th>\n",
       "      <th>Temperature_C</th>\n",
       "      <th>Apparent_Temperature_C</th>\n",
       "      <th>Humidity</th>\n",
       "      <th>Wind_speed_kmph</th>\n",
       "      <th>Wind_bearing_degrees</th>\n",
       "      <th>Visibility_km</th>\n",
       "      <th>Pressure_millibars</th>\n",
       "      <th>Weather_conditions</th>\n",
       "    </tr>\n",
       "  </thead>\n",
       "  <tbody>\n",
       "    <tr>\n",
       "      <th>3</th>\n",
       "      <td>3</td>\n",
       "      <td>2006-04-01 03:00:00+02:00</td>\n",
       "      <td>Port of Turku, Finland</td>\n",
       "      <td>8.288889</td>\n",
       "      <td>5.944444</td>\n",
       "      <td>0.83</td>\n",
       "      <td>14.1036</td>\n",
       "      <td>269</td>\n",
       "      <td>15.8263</td>\n",
       "      <td>1016.41</td>\n",
       "      <td>NaN</td>\n",
       "    </tr>\n",
       "    <tr>\n",
       "      <th>116</th>\n",
       "      <td>116</td>\n",
       "      <td>2006-04-13 20:00:00+02:00</td>\n",
       "      <td>Port of Turku, Finland</td>\n",
       "      <td>8.072222</td>\n",
       "      <td>6.433333</td>\n",
       "      <td>0.75</td>\n",
       "      <td>9.5151</td>\n",
       "      <td>150</td>\n",
       "      <td>9.9820</td>\n",
       "      <td>1010.91</td>\n",
       "      <td>NaN</td>\n",
       "    </tr>\n",
       "    <tr>\n",
       "      <th>222</th>\n",
       "      <td>222</td>\n",
       "      <td>2006-04-18 06:00:00+02:00</td>\n",
       "      <td>Port of Turku, Finland</td>\n",
       "      <td>6.627778</td>\n",
       "      <td>6.627778</td>\n",
       "      <td>0.96</td>\n",
       "      <td>3.3005</td>\n",
       "      <td>313</td>\n",
       "      <td>2.9302</td>\n",
       "      <td>1012.75</td>\n",
       "      <td>NaN</td>\n",
       "    </tr>\n",
       "    <tr>\n",
       "      <th>94717</th>\n",
       "      <td>39532</td>\n",
       "      <td>2010-06-12 04:00:00+02:00</td>\n",
       "      <td>Port of Turku, Finland</td>\n",
       "      <td>20.933333</td>\n",
       "      <td>20.933333</td>\n",
       "      <td>0.90</td>\n",
       "      <td>3.0751</td>\n",
       "      <td>112</td>\n",
       "      <td>14.9086</td>\n",
       "      <td>1010.35</td>\n",
       "      <td>NaN</td>\n",
       "    </tr>\n",
       "    <tr>\n",
       "      <th>94722</th>\n",
       "      <td>39537</td>\n",
       "      <td>2010-06-12 09:00:00+02:00</td>\n",
       "      <td>Port of Turku, Finland</td>\n",
       "      <td>27.827778</td>\n",
       "      <td>30.527778</td>\n",
       "      <td>0.72</td>\n",
       "      <td>8.0822</td>\n",
       "      <td>184</td>\n",
       "      <td>9.9820</td>\n",
       "      <td>1010.53</td>\n",
       "      <td>NaN</td>\n",
       "    </tr>\n",
       "  </tbody>\n",
       "</table>\n",
       "</div>"
      ],
      "text/plain": [
       "        S_No                  Timestamp                Location  \\\n",
       "3          3  2006-04-01 03:00:00+02:00  Port of Turku, Finland   \n",
       "116      116  2006-04-13 20:00:00+02:00  Port of Turku, Finland   \n",
       "222      222  2006-04-18 06:00:00+02:00  Port of Turku, Finland   \n",
       "94717  39532  2010-06-12 04:00:00+02:00  Port of Turku, Finland   \n",
       "94722  39537  2010-06-12 09:00:00+02:00  Port of Turku, Finland   \n",
       "\n",
       "       Temperature_C  Apparent_Temperature_C  Humidity  Wind_speed_kmph  \\\n",
       "3           8.288889                5.944444      0.83          14.1036   \n",
       "116         8.072222                6.433333      0.75           9.5151   \n",
       "222         6.627778                6.627778      0.96           3.3005   \n",
       "94717      20.933333               20.933333      0.90           3.0751   \n",
       "94722      27.827778               30.527778      0.72           8.0822   \n",
       "\n",
       "       Wind_bearing_degrees  Visibility_km  Pressure_millibars  \\\n",
       "3                       269        15.8263             1016.41   \n",
       "116                     150         9.9820             1010.91   \n",
       "222                     313         2.9302             1012.75   \n",
       "94717                   112        14.9086             1010.35   \n",
       "94722                   184         9.9820             1010.53   \n",
       "\n",
       "      Weather_conditions  \n",
       "3                    NaN  \n",
       "116                  NaN  \n",
       "222                  NaN  \n",
       "94717                NaN  \n",
       "94722                NaN  "
      ]
     },
     "execution_count": 13,
     "metadata": {},
     "output_type": "execute_result"
    }
   ],
   "source": [
    "df.iloc[[    3,   116,   222, 94717, 94722]]  # Verify!"
   ]
  },
  {
   "cell_type": "code",
   "execution_count": 14,
   "id": "3cbac5a7",
   "metadata": {},
   "outputs": [],
   "source": [
    "# Fill missing values with fillna, forward fill method, missing value is filled with preceding non-missing value\n",
    "df['Weather_conditions'].fillna(method='ffill', inplace=True) "
   ]
  },
  {
   "cell_type": "code",
   "execution_count": 15,
   "id": "c5bb0001",
   "metadata": {
    "scrolled": false
   },
   "outputs": [
    {
     "data": {
      "text/html": [
       "<div>\n",
       "<style scoped>\n",
       "    .dataframe tbody tr th:only-of-type {\n",
       "        vertical-align: middle;\n",
       "    }\n",
       "\n",
       "    .dataframe tbody tr th {\n",
       "        vertical-align: top;\n",
       "    }\n",
       "\n",
       "    .dataframe thead th {\n",
       "        text-align: right;\n",
       "    }\n",
       "</style>\n",
       "<table border=\"1\" class=\"dataframe\">\n",
       "  <thead>\n",
       "    <tr style=\"text-align: right;\">\n",
       "      <th></th>\n",
       "      <th>S_No</th>\n",
       "      <th>Timestamp</th>\n",
       "      <th>Location</th>\n",
       "      <th>Temperature_C</th>\n",
       "      <th>Apparent_Temperature_C</th>\n",
       "      <th>Humidity</th>\n",
       "      <th>Wind_speed_kmph</th>\n",
       "      <th>Wind_bearing_degrees</th>\n",
       "      <th>Visibility_km</th>\n",
       "      <th>Pressure_millibars</th>\n",
       "      <th>Weather_conditions</th>\n",
       "    </tr>\n",
       "  </thead>\n",
       "  <tbody>\n",
       "    <tr>\n",
       "      <th>3</th>\n",
       "      <td>3</td>\n",
       "      <td>2006-04-01 03:00:00+02:00</td>\n",
       "      <td>Port of Turku, Finland</td>\n",
       "      <td>8.288889</td>\n",
       "      <td>5.944444</td>\n",
       "      <td>0.83</td>\n",
       "      <td>14.1036</td>\n",
       "      <td>269</td>\n",
       "      <td>15.8263</td>\n",
       "      <td>1016.41</td>\n",
       "      <td>rain</td>\n",
       "    </tr>\n",
       "    <tr>\n",
       "      <th>116</th>\n",
       "      <td>116</td>\n",
       "      <td>2006-04-13 20:00:00+02:00</td>\n",
       "      <td>Port of Turku, Finland</td>\n",
       "      <td>8.072222</td>\n",
       "      <td>6.433333</td>\n",
       "      <td>0.75</td>\n",
       "      <td>9.5151</td>\n",
       "      <td>150</td>\n",
       "      <td>9.9820</td>\n",
       "      <td>1010.91</td>\n",
       "      <td>rain</td>\n",
       "    </tr>\n",
       "    <tr>\n",
       "      <th>222</th>\n",
       "      <td>222</td>\n",
       "      <td>2006-04-18 06:00:00+02:00</td>\n",
       "      <td>Port of Turku, Finland</td>\n",
       "      <td>6.627778</td>\n",
       "      <td>6.627778</td>\n",
       "      <td>0.96</td>\n",
       "      <td>3.3005</td>\n",
       "      <td>313</td>\n",
       "      <td>2.9302</td>\n",
       "      <td>1012.75</td>\n",
       "      <td>rain</td>\n",
       "    </tr>\n",
       "    <tr>\n",
       "      <th>94717</th>\n",
       "      <td>39532</td>\n",
       "      <td>2010-06-12 04:00:00+02:00</td>\n",
       "      <td>Port of Turku, Finland</td>\n",
       "      <td>20.933333</td>\n",
       "      <td>20.933333</td>\n",
       "      <td>0.90</td>\n",
       "      <td>3.0751</td>\n",
       "      <td>112</td>\n",
       "      <td>14.9086</td>\n",
       "      <td>1010.35</td>\n",
       "      <td>clear</td>\n",
       "    </tr>\n",
       "    <tr>\n",
       "      <th>94722</th>\n",
       "      <td>39537</td>\n",
       "      <td>2010-06-12 09:00:00+02:00</td>\n",
       "      <td>Port of Turku, Finland</td>\n",
       "      <td>27.827778</td>\n",
       "      <td>30.527778</td>\n",
       "      <td>0.72</td>\n",
       "      <td>8.0822</td>\n",
       "      <td>184</td>\n",
       "      <td>9.9820</td>\n",
       "      <td>1010.53</td>\n",
       "      <td>clear</td>\n",
       "    </tr>\n",
       "  </tbody>\n",
       "</table>\n",
       "</div>"
      ],
      "text/plain": [
       "        S_No                  Timestamp                Location  \\\n",
       "3          3  2006-04-01 03:00:00+02:00  Port of Turku, Finland   \n",
       "116      116  2006-04-13 20:00:00+02:00  Port of Turku, Finland   \n",
       "222      222  2006-04-18 06:00:00+02:00  Port of Turku, Finland   \n",
       "94717  39532  2010-06-12 04:00:00+02:00  Port of Turku, Finland   \n",
       "94722  39537  2010-06-12 09:00:00+02:00  Port of Turku, Finland   \n",
       "\n",
       "       Temperature_C  Apparent_Temperature_C  Humidity  Wind_speed_kmph  \\\n",
       "3           8.288889                5.944444      0.83          14.1036   \n",
       "116         8.072222                6.433333      0.75           9.5151   \n",
       "222         6.627778                6.627778      0.96           3.3005   \n",
       "94717      20.933333               20.933333      0.90           3.0751   \n",
       "94722      27.827778               30.527778      0.72           8.0822   \n",
       "\n",
       "       Wind_bearing_degrees  Visibility_km  Pressure_millibars  \\\n",
       "3                       269        15.8263             1016.41   \n",
       "116                     150         9.9820             1010.91   \n",
       "222                     313         2.9302             1012.75   \n",
       "94717                   112        14.9086             1010.35   \n",
       "94722                   184         9.9820             1010.53   \n",
       "\n",
       "      Weather_conditions  \n",
       "3                   rain  \n",
       "116                 rain  \n",
       "222                 rain  \n",
       "94717              clear  \n",
       "94722              clear  "
      ]
     },
     "execution_count": 15,
     "metadata": {},
     "output_type": "execute_result"
    }
   ],
   "source": [
    "df.iloc[[    3,   116,   222, 94717, 94722]]"
   ]
  },
  {
   "cell_type": "code",
   "execution_count": 16,
   "id": "c98c2ed4",
   "metadata": {},
   "outputs": [],
   "source": [
    "# Since only interested in rain, no-rain conditions, map snow and clear values to no_rain\n",
    "df['Weather_conditions'].replace({\"snow\": \"no_rain\", \"clear\": \"no_rain\"}, inplace=True)"
   ]
  },
  {
   "cell_type": "code",
   "execution_count": 17,
   "id": "5c96864d",
   "metadata": {},
   "outputs": [],
   "source": [
    "# Encode rain, no_rain to 1, 0, place in series y.\n",
    "from sklearn.preprocessing import LabelEncoder\n",
    "le = LabelEncoder()\n",
    "y = df['Weather_conditions']\n",
    "y = le.fit_transform(y)"
   ]
  },
  {
   "cell_type": "code",
   "execution_count": 18,
   "id": "71df2404",
   "metadata": {},
   "outputs": [
    {
     "data": {
      "text/plain": [
       "0           rain\n",
       "1           rain\n",
       "2           rain\n",
       "3           rain\n",
       "4           rain\n",
       "          ...   \n",
       "96448    no_rain\n",
       "96449    no_rain\n",
       "96450    no_rain\n",
       "96451    no_rain\n",
       "96452    no_rain\n",
       "Name: Weather_conditions, Length: 96453, dtype: object"
      ]
     },
     "execution_count": 18,
     "metadata": {},
     "output_type": "execute_result"
    }
   ],
   "source": [
    "df['Weather_conditions']"
   ]
  },
  {
   "cell_type": "code",
   "execution_count": 19,
   "id": "1274e680",
   "metadata": {},
   "outputs": [
    {
     "data": {
      "text/plain": [
       "array([1, 1, 1, ..., 0, 0, 0])"
      ]
     },
     "execution_count": 19,
     "metadata": {},
     "output_type": "execute_result"
    }
   ],
   "source": [
    "y"
   ]
  },
  {
   "cell_type": "code",
   "execution_count": 20,
   "id": "3d5a40a2",
   "metadata": {},
   "outputs": [],
   "source": [
    "# insert series y as a new column with heading \"Weather_condition\" in the dataframe, \n",
    "# remove the \"Weather condition\" feature/column\n",
    "y = pd.DataFrame(data=y, columns=[\"Weather_condition\"])\n",
    "df = pd.concat([df,y], axis=1)\n",
    "df.drop(['Weather_conditions'], axis=1, inplace=True)"
   ]
  },
  {
   "cell_type": "code",
   "execution_count": 21,
   "id": "7f452a62",
   "metadata": {},
   "outputs": [
    {
     "data": {
      "text/html": [
       "<div>\n",
       "<style scoped>\n",
       "    .dataframe tbody tr th:only-of-type {\n",
       "        vertical-align: middle;\n",
       "    }\n",
       "\n",
       "    .dataframe tbody tr th {\n",
       "        vertical-align: top;\n",
       "    }\n",
       "\n",
       "    .dataframe thead th {\n",
       "        text-align: right;\n",
       "    }\n",
       "</style>\n",
       "<table border=\"1\" class=\"dataframe\">\n",
       "  <thead>\n",
       "    <tr style=\"text-align: right;\">\n",
       "      <th></th>\n",
       "      <th>S_No</th>\n",
       "      <th>Timestamp</th>\n",
       "      <th>Location</th>\n",
       "      <th>Temperature_C</th>\n",
       "      <th>Apparent_Temperature_C</th>\n",
       "      <th>Humidity</th>\n",
       "      <th>Wind_speed_kmph</th>\n",
       "      <th>Wind_bearing_degrees</th>\n",
       "      <th>Visibility_km</th>\n",
       "      <th>Pressure_millibars</th>\n",
       "      <th>Weather_condition</th>\n",
       "    </tr>\n",
       "  </thead>\n",
       "  <tbody>\n",
       "    <tr>\n",
       "      <th>0</th>\n",
       "      <td>0</td>\n",
       "      <td>2006-04-01 00:00:00+02:00</td>\n",
       "      <td>Port of Turku, Finland</td>\n",
       "      <td>9.472222</td>\n",
       "      <td>7.388889</td>\n",
       "      <td>0.89</td>\n",
       "      <td>14.1197</td>\n",
       "      <td>251</td>\n",
       "      <td>15.8263</td>\n",
       "      <td>1015.13</td>\n",
       "      <td>1</td>\n",
       "    </tr>\n",
       "    <tr>\n",
       "      <th>1</th>\n",
       "      <td>1</td>\n",
       "      <td>2006-04-01 01:00:00+02:00</td>\n",
       "      <td>Port of Turku, Finland</td>\n",
       "      <td>9.355556</td>\n",
       "      <td>7.227778</td>\n",
       "      <td>0.86</td>\n",
       "      <td>14.2646</td>\n",
       "      <td>259</td>\n",
       "      <td>15.8263</td>\n",
       "      <td>1015.63</td>\n",
       "      <td>1</td>\n",
       "    </tr>\n",
       "  </tbody>\n",
       "</table>\n",
       "</div>"
      ],
      "text/plain": [
       "   S_No                  Timestamp                Location  Temperature_C  \\\n",
       "0     0  2006-04-01 00:00:00+02:00  Port of Turku, Finland       9.472222   \n",
       "1     1  2006-04-01 01:00:00+02:00  Port of Turku, Finland       9.355556   \n",
       "\n",
       "   Apparent_Temperature_C  Humidity  Wind_speed_kmph  Wind_bearing_degrees  \\\n",
       "0                7.388889      0.89          14.1197                   251   \n",
       "1                7.227778      0.86          14.2646                   259   \n",
       "\n",
       "   Visibility_km  Pressure_millibars  Weather_condition  \n",
       "0        15.8263             1015.13                  1  \n",
       "1        15.8263             1015.63                  1  "
      ]
     },
     "execution_count": 21,
     "metadata": {},
     "output_type": "execute_result"
    }
   ],
   "source": [
    "df. head(2)"
   ]
  },
  {
   "cell_type": "code",
   "execution_count": 22,
   "id": "076710a8",
   "metadata": {},
   "outputs": [
    {
     "data": {
      "text/plain": [
       "0        NaN\n",
       "1        NaN\n",
       "2        NaN\n",
       "3        NaN\n",
       "4        1.0\n",
       "        ... \n",
       "96448    0.0\n",
       "96449    0.0\n",
       "96450    0.0\n",
       "96451    0.0\n",
       "96452    0.0\n",
       "Name: Weather_condition, Length: 96453, dtype: float64"
      ]
     },
     "execution_count": 22,
     "metadata": {},
     "output_type": "execute_result"
    }
   ],
   "source": [
    "# Since interested in forcating weather four hours ahead, must shift Weather_condition column down. Let's inspect the effect \n",
    "# Before updatign the dataframe\n",
    "df.Weather_condition.shift(4, axis=0)"
   ]
  },
  {
   "cell_type": "code",
   "execution_count": 23,
   "id": "e5c94785",
   "metadata": {
    "scrolled": true
   },
   "outputs": [],
   "source": [
    "# Define a new feature \"Future_weather_conditon\" in that dataframe that holds the shifted column. use dropna() to \n",
    "# Remove all rows with NA\n",
    "df['Future_weather_condition'] = df.Weather_condition.shift(4) \n",
    "df.dropna(inplace=True)"
   ]
  },
  {
   "cell_type": "code",
   "execution_count": 24,
   "id": "f0e944d5",
   "metadata": {},
   "outputs": [
    {
     "data": {
      "text/html": [
       "<div>\n",
       "<style scoped>\n",
       "    .dataframe tbody tr th:only-of-type {\n",
       "        vertical-align: middle;\n",
       "    }\n",
       "\n",
       "    .dataframe tbody tr th {\n",
       "        vertical-align: top;\n",
       "    }\n",
       "\n",
       "    .dataframe thead th {\n",
       "        text-align: right;\n",
       "    }\n",
       "</style>\n",
       "<table border=\"1\" class=\"dataframe\">\n",
       "  <thead>\n",
       "    <tr style=\"text-align: right;\">\n",
       "      <th></th>\n",
       "      <th>S_No</th>\n",
       "      <th>Timestamp</th>\n",
       "      <th>Location</th>\n",
       "      <th>Temperature_C</th>\n",
       "      <th>Apparent_Temperature_C</th>\n",
       "      <th>Humidity</th>\n",
       "      <th>Wind_speed_kmph</th>\n",
       "      <th>Wind_bearing_degrees</th>\n",
       "      <th>Visibility_km</th>\n",
       "      <th>Pressure_millibars</th>\n",
       "      <th>Weather_condition</th>\n",
       "      <th>Future_weather_condition</th>\n",
       "    </tr>\n",
       "  </thead>\n",
       "  <tbody>\n",
       "    <tr>\n",
       "      <th>4</th>\n",
       "      <td>4</td>\n",
       "      <td>2006-04-01 04:00:00+02:00</td>\n",
       "      <td>Port of Turku, Finland</td>\n",
       "      <td>8.755556</td>\n",
       "      <td>6.977778</td>\n",
       "      <td>0.83</td>\n",
       "      <td>11.0446</td>\n",
       "      <td>259</td>\n",
       "      <td>15.8263</td>\n",
       "      <td>1016.51</td>\n",
       "      <td>1</td>\n",
       "      <td>1.0</td>\n",
       "    </tr>\n",
       "    <tr>\n",
       "      <th>5</th>\n",
       "      <td>5</td>\n",
       "      <td>2006-04-01 05:00:00+02:00</td>\n",
       "      <td>Port of Turku, Finland</td>\n",
       "      <td>9.222222</td>\n",
       "      <td>7.111111</td>\n",
       "      <td>0.85</td>\n",
       "      <td>13.9587</td>\n",
       "      <td>258</td>\n",
       "      <td>14.9569</td>\n",
       "      <td>1016.66</td>\n",
       "      <td>1</td>\n",
       "      <td>1.0</td>\n",
       "    </tr>\n",
       "  </tbody>\n",
       "</table>\n",
       "</div>"
      ],
      "text/plain": [
       "   S_No                  Timestamp                Location  Temperature_C  \\\n",
       "4     4  2006-04-01 04:00:00+02:00  Port of Turku, Finland       8.755556   \n",
       "5     5  2006-04-01 05:00:00+02:00  Port of Turku, Finland       9.222222   \n",
       "\n",
       "   Apparent_Temperature_C  Humidity  Wind_speed_kmph  Wind_bearing_degrees  \\\n",
       "4                6.977778      0.83          11.0446                   259   \n",
       "5                7.111111      0.85          13.9587                   258   \n",
       "\n",
       "   Visibility_km  Pressure_millibars  Weather_condition  \\\n",
       "4        15.8263             1016.51                  1   \n",
       "5        14.9569             1016.66                  1   \n",
       "\n",
       "   Future_weather_condition  \n",
       "4                       1.0  \n",
       "5                       1.0  "
      ]
     },
     "execution_count": 24,
     "metadata": {},
     "output_type": "execute_result"
    }
   ],
   "source": [
    "df.head(2)"
   ]
  },
  {
   "cell_type": "code",
   "execution_count": 25,
   "id": "7c75a092",
   "metadata": {},
   "outputs": [
    {
     "data": {
      "image/png": "[encoded data removed]",
      "text/plain": [
       "<Figure size 432x288 with 2 Axes>"
      ]
     },
     "metadata": {
      "needs_background": "light"
     },
     "output_type": "display_data"
    }
   ],
   "source": [
    "# Inspect correlation among features. High correlation between Temperature_c and Apprent_Temperature_C. \n",
    "# These are similar feature, we will drop one.  S_No represents the serial number, which can be removed as well.\n",
    "df.corr(method=\"pearson\")\n",
    "# Visualizing using heatmap\n",
    "corrMatrix = df.corr()\n",
    "sns.heatmap(corrMatrix, annot=True)  \n",
    "plt.show()"
   ]
  },
  {
   "cell_type": "code",
   "execution_count": 26,
   "id": "0e1384bf",
   "metadata": {},
   "outputs": [],
   "source": [
    "df.drop(['S_No', 'Apparent_Temperature_C'], axis=1, inplace=True)"
   ]
  },
  {
   "cell_type": "code",
   "execution_count": 27,
   "id": "c43dccc6",
   "metadata": {},
   "outputs": [
    {
     "data": {
      "text/html": [
       "<div>\n",
       "<style scoped>\n",
       "    .dataframe tbody tr th:only-of-type {\n",
       "        vertical-align: middle;\n",
       "    }\n",
       "\n",
       "    .dataframe tbody tr th {\n",
       "        vertical-align: top;\n",
       "    }\n",
       "\n",
       "    .dataframe thead th {\n",
       "        text-align: right;\n",
       "    }\n",
       "</style>\n",
       "<table border=\"1\" class=\"dataframe\">\n",
       "  <thead>\n",
       "    <tr style=\"text-align: right;\">\n",
       "      <th></th>\n",
       "      <th>Timestamp</th>\n",
       "      <th>Location</th>\n",
       "      <th>Temperature_C</th>\n",
       "      <th>Humidity</th>\n",
       "      <th>Wind_speed_kmph</th>\n",
       "      <th>Wind_bearing_degrees</th>\n",
       "      <th>Visibility_km</th>\n",
       "      <th>Pressure_millibars</th>\n",
       "      <th>Weather_condition</th>\n",
       "      <th>Future_weather_condition</th>\n",
       "    </tr>\n",
       "  </thead>\n",
       "  <tbody>\n",
       "    <tr>\n",
       "      <th>4</th>\n",
       "      <td>2006-04-01 04:00:00+02:00</td>\n",
       "      <td>Port of Turku, Finland</td>\n",
       "      <td>8.755556</td>\n",
       "      <td>0.83</td>\n",
       "      <td>11.0446</td>\n",
       "      <td>259</td>\n",
       "      <td>15.8263</td>\n",
       "      <td>1016.51</td>\n",
       "      <td>1</td>\n",
       "      <td>1.0</td>\n",
       "    </tr>\n",
       "    <tr>\n",
       "      <th>5</th>\n",
       "      <td>2006-04-01 05:00:00+02:00</td>\n",
       "      <td>Port of Turku, Finland</td>\n",
       "      <td>9.222222</td>\n",
       "      <td>0.85</td>\n",
       "      <td>13.9587</td>\n",
       "      <td>258</td>\n",
       "      <td>14.9569</td>\n",
       "      <td>1016.66</td>\n",
       "      <td>1</td>\n",
       "      <td>1.0</td>\n",
       "    </tr>\n",
       "  </tbody>\n",
       "</table>\n",
       "</div>"
      ],
      "text/plain": [
       "                   Timestamp                Location  Temperature_C  Humidity  \\\n",
       "4  2006-04-01 04:00:00+02:00  Port of Turku, Finland       8.755556      0.83   \n",
       "5  2006-04-01 05:00:00+02:00  Port of Turku, Finland       9.222222      0.85   \n",
       "\n",
       "   Wind_speed_kmph  Wind_bearing_degrees  Visibility_km  Pressure_millibars  \\\n",
       "4          11.0446                   259        15.8263             1016.51   \n",
       "5          13.9587                   258        14.9569             1016.66   \n",
       "\n",
       "   Weather_condition  Future_weather_condition  \n",
       "4                  1                       1.0  \n",
       "5                  1                       1.0  "
      ]
     },
     "execution_count": 27,
     "metadata": {},
     "output_type": "execute_result"
    }
   ],
   "source": [
    "df.head(2)"
   ]
  },
  {
   "cell_type": "code",
   "execution_count": 28,
   "id": "d987e14b",
   "metadata": {},
   "outputs": [],
   "source": [
    "# Data is now considered clean. We should save a copy of this dataset and version it.\n",
    "df.to_csv('C:\\\\Users\\\\amf\\\\Google Drive\\\\National\\\\ANA680\\week1\\\\weatherData_cleaned.csv')"
   ]
  },
  {
   "cell_type": "code",
   "execution_count": 29,
   "id": "33192cbb",
   "metadata": {},
   "outputs": [
    {
     "data": {
      "text/plain": [
       "(96449, 10)"
      ]
     },
     "execution_count": 29,
     "metadata": {},
     "output_type": "execute_result"
    }
   ],
   "source": [
    "df.shape"
   ]
  },
  {
   "cell_type": "code",
   "execution_count": 30,
   "id": "592f5437",
   "metadata": {},
   "outputs": [],
   "source": [
    "# Save 100 rows in dataframe df2 for deployment testing. Remove these rows from dataframe df.\n",
    "np.random.seed(1)\n",
    "# generate some integers\n",
    "values = np.random.randint(1, df.shape[0], 100)\n",
    "df2= df.iloc[values] \n",
    "df.drop(values,axis=0, inplace=True)"
   ]
  },
  {
   "cell_type": "code",
   "execution_count": 31,
   "id": "1df4e8ac",
   "metadata": {},
   "outputs": [],
   "source": [
    "# Ready for Model training. Feature to be used for predicting are in X and the target feature is placed in y\n",
    "X = df[['Temperature_C', 'Humidity', 'Wind_speed_kmph', 'Wind_bearing_degrees', 'Visibility_km', 'Pressure_millibars', 'Weather_condition']].values\n",
    "y = df['Future_weather_condition'].values.astype(int)"
   ]
  },
  {
   "cell_type": "code",
   "execution_count": 32,
   "id": "62ec5023",
   "metadata": {},
   "outputs": [
    {
     "data": {
      "text/plain": [
       "(96349, 10)"
      ]
     },
     "execution_count": 32,
     "metadata": {},
     "output_type": "execute_result"
    }
   ],
   "source": [
    "df.shape"
   ]
  },
  {
   "cell_type": "code",
   "execution_count": 33,
   "id": "1e6cbc16",
   "metadata": {},
   "outputs": [
    {
     "data": {
      "text/plain": [
       "array([1, 1, 1, ..., 0, 0, 0])"
      ]
     },
     "execution_count": 33,
     "metadata": {},
     "output_type": "execute_result"
    }
   ],
   "source": [
    "y"
   ]
  },
  {
   "cell_type": "code",
   "execution_count": 34,
   "id": "038e4be1",
   "metadata": {},
   "outputs": [],
   "source": [
    "# Split data for training and testing\n",
    "from sklearn.model_selection import train_test_split\n",
    "X_train, X_test,  y_train, y_test = train_test_split(X, y, test_size=0.2, random_state=1)"
   ]
  },
  {
   "cell_type": "code",
   "execution_count": 35,
   "id": "da3748cd",
   "metadata": {},
   "outputs": [],
   "source": [
    "# As seen in the dataframe we have features such as pressure with values in one thousand range and feature such \n",
    "# as humidity with values between 0 and 1. Use standard scaler to scale data to mean 0 and STD of 1.\n",
    "from sklearn.preprocessing import StandardScaler\n",
    "sc = StandardScaler()\n",
    "X_train = sc.fit_transform(X_train)\n",
    "X_test = sc.fit_transform(X_test) "
   ]
  },
  {
   "cell_type": "code",
   "execution_count": 36,
   "id": "e71e3763",
   "metadata": {},
   "outputs": [
    {
     "data": {
      "text/plain": [
       "array([[ 0.18615542,  0.38447094, -0.57102977, ...,  1.09135425,\n",
       "         0.05289583,  0.41455518],\n",
       "       [-0.89815466, -0.12678091, -0.07503775, ...,  1.09135425,\n",
       "         0.11034429,  0.41455518],\n",
       "       [-0.9564509 , -0.84253349,  2.41190817, ..., -0.08729319,\n",
       "        -8.37115301,  0.41455518],\n",
       "       ...,\n",
       "       [-1.68398798,  0.99797316, -0.21941101, ..., -2.28819794,\n",
       "         0.19701799, -2.41222412],\n",
       "       [-0.54779425,  0.58897168,  0.40698267, ...,  0.45053623,\n",
       "         0.11401832,  0.41455518],\n",
       "       [ 0.99006057,  0.28222057, -0.75731786, ...,  1.23248679,\n",
       "         0.04788579, -2.41222412]])"
      ]
     },
     "execution_count": 36,
     "metadata": {},
     "output_type": "execute_result"
    }
   ],
   "source": [
    "X_test"
   ]
  },
  {
   "cell_type": "code",
   "execution_count": 37,
   "id": "aea539d4",
   "metadata": {},
   "outputs": [],
   "source": [
    "# we can save the test data as csv, as well\n",
    "np.savetxt('C:\\\\Users\\\\amf\\\\Google Drive\\\\National\\\\ANA680\\week1\\\\X_test.csv', X_test, delimiter=\",\")"
   ]
  },
  {
   "cell_type": "markdown",
   "id": "374bc86e",
   "metadata": {},
   "source": [
    "# Modeling 1: Support Vector Machine"
   ]
  },
  {
   "cell_type": "code",
   "execution_count": 38,
   "id": "b67fc0e0",
   "metadata": {},
   "outputs": [
    {
     "name": "stdout",
     "output_type": "stream",
     "text": [
      "The MSE on test set is 0.0461\n"
     ]
    }
   ],
   "source": [
    "from sklearn.svm import SVC\n",
    "from sklearn.metrics import mean_squared_error\n",
    "svm =  SVC(kernel='linear')\n",
    "svm.fit(X_train, y_train)\n",
    "y_pred = svm.predict(X_test)\n",
    "print(\"The MSE on test set is {0:.4f}\".format(mean_squared_error(y_test, y_pred)))"
   ]
  },
  {
   "cell_type": "code",
   "execution_count": 39,
   "id": "7f1d9448",
   "metadata": {},
   "outputs": [
    {
     "data": {
      "text/plain": [
       "array([1, 1, 1, ..., 0, 1, 0])"
      ]
     },
     "execution_count": 39,
     "metadata": {},
     "output_type": "execute_result"
    }
   ],
   "source": [
    "y_pred"
   ]
  },
  {
   "cell_type": "code",
   "execution_count": 40,
   "id": "fafb2937",
   "metadata": {},
   "outputs": [
    {
     "name": "stdout",
     "output_type": "stream",
     "text": [
      "[[ 2363   425]\n",
      " [  463 16019]]\n",
      "              precision    recall  f1-score   support\n",
      "\n",
      "           0       0.84      0.85      0.84      2788\n",
      "           1       0.97      0.97      0.97     16482\n",
      "\n",
      "    accuracy                           0.95     19270\n",
      "   macro avg       0.91      0.91      0.91     19270\n",
      "weighted avg       0.95      0.95      0.95     19270\n",
      "\n"
     ]
    }
   ],
   "source": [
    "# measure of accuracy, precision, recall, and f1-score\n",
    "from sklearn.metrics import classification_report, confusion_matrix\n",
    "print(confusion_matrix(y_test,y_pred))\n",
    "print(classification_report(y_test,y_pred))"
   ]
  },
  {
   "cell_type": "markdown",
   "id": "cec56686",
   "metadata": {},
   "source": [
    "Let's see how the model will predict the 'Future_weather_condition' for the 100 rows we put aside."
   ]
  },
  {
   "cell_type": "code",
   "execution_count": 47,
   "id": "f86633ca",
   "metadata": {},
   "outputs": [
    {
     "name": "stdout",
     "output_type": "stream",
     "text": [
      "The MSE on test set is 0.0700\n",
      "[[11  1]\n",
      " [ 6 82]]\n",
      "              precision    recall  f1-score   support\n",
      "\n",
      "           0       0.65      0.92      0.76        12\n",
      "           1       0.99      0.93      0.96        88\n",
      "\n",
      "    accuracy                           0.93       100\n",
      "   macro avg       0.82      0.92      0.86       100\n",
      "weighted avg       0.95      0.93      0.94       100\n",
      "\n"
     ]
    }
   ],
   "source": [
    "X2 = df2[['Temperature_C', 'Humidity', 'Wind_speed_kmph', 'Wind_bearing_degrees', 'Visibility_km', 'Pressure_millibars', 'Weather_condition']].values\n",
    "y2=df2['Future_weather_condition'].values.astype(int)\n",
    "X2=sc.fit_transform(X2)\n",
    "#y2=sc.transform(y2)\n",
    "y2_pred = svm.predict(X2)\n",
    "print(\"The MSE on test set is {0:.4f}\".format(mean_squared_error(y2, y2_pred)))\n",
    "print(confusion_matrix(y2,y2_pred))\n",
    "print(classification_report(y2,y2_pred))"
   ]
  },
  {
   "cell_type": "markdown",
   "id": "b9e09f2c",
   "metadata": {},
   "source": [
    "# Modeling 2: Random Forest classifier: \n",
    "Random Forest is an ensemble learning method that operates with a multitude of decision trees."
   ]
  },
  {
   "cell_type": "code",
   "execution_count": null,
   "id": "b3e37575",
   "metadata": {},
   "outputs": [],
   "source": [
    "from sklearn.ensemble import RandomForestClassifier\n",
    "rfc = RandomForestClassifier (max_depth=10, random_state=0, n_estimators=100)\n",
    "\n",
    "#Train the model using the training sets y_pred=rfc.predict(X_test)\n",
    "rfc.fit(X_train,y_train)\n",
    "\n",
    "y_pred=rfc.predict(X_test)\n",
    "print(confusion_matrix(y_test,y_pred))\n",
    "print(classification_report(y_test,y_pred))"
   ]
  }
 ],
 "metadata": {
  "kernelspec": {
   "display_name": "Python 3 (ipykernel)",
   "language": "python",
   "name": "python3"
  },
  "language_info": {
   "codemirror_mode": {
    "name": "ipython",
    "version": 3
   },
   "file_extension": ".py",
   "mimetype": "text/x-python",
   "name": "python",
   "nbconvert_exporter": "python",
   "pygments_lexer": "ipython3",
   "version": "3.9.7"
  }
 },
 "nbformat": 4,
 "nbformat_minor": 5
}
