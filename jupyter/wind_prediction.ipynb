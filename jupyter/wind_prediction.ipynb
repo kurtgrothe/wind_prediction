{
 "cells": [
  {
   "cell_type": "markdown",
   "id": "9ad41155-3ef1-4d34-b818-165e804fe1a4",
   "metadata": {},
   "source": [
    "Define the problem you are trying to solve and why machine learning will provide the best solution for this problem. Identify the dataset you plan to use for this project and its location.\n",
    "Perform data exploration, data cleaning, feature engineering and selection on Jupyter Notebook or Google Colab.\n",
    "Split data into testing, training,; select training algorithm(s) and metrics to train the model and evaluate its performance. (Extra points if the validation set is also utilized). Save the project as ipynb and. pkl in GitHub.\n",
    "Deploy the model on a local machine using FLASK. Do this just to ensure model is working. No need to submit anything for part 4.\n",
    "Create a CI/CD pipeline for this project and deploy it to Heroku. Ensure all the necessary files are in GitHub. Submit GitHub URL of the project. For the CI/CD you must have .ymal file in the workflows folder. Will Lose points if CI/CD is not used. Hint: no need to containerize your project for this part.\n",
    "Turn the model in step 5 into a container and push it to your Docker Hub. Must submit your hub.docker URL. Pull your image from the Hub.docker registry and deploy to your local machine. Submit images with screenshots of commands issued.\n",
    "Create a CI/CD pipeline for this project and deploy your container image to Heroku. Ensure all the necessary files are in GitHub. (Optional: extra point)\n",
    "Deploy the container from Hub.docker to AWS local host. (Optional: extra point)\n"
   ]
  },
  {
   "cell_type": "markdown",
   "id": "7ce97080-0e8b-498e-aed7-cc260552dca8",
   "metadata": {},
   "source": [
    "## Libraries"
   ]
  },
  {
   "cell_type": "code",
   "execution_count": 1,
   "id": "978f725e-93f9-4fa2-ac14-517e5264b247",
   "metadata": {},
   "outputs": [
    {
     "ename": "ModuleNotFoundError",
     "evalue": "No module named 'tensorflow'",
     "output_type": "error",
     "traceback": [
      "\u001b[0;31m---------------------------------------------------------------------------\u001b[0m",
      "\u001b[0;31mModuleNotFoundError\u001b[0m                       Traceback (most recent call last)",
      "Cell \u001b[0;32mIn[1], line 22\u001b[0m\n\u001b[1;32m     19\u001b[0m \u001b[38;5;28;01mfrom\u001b[39;00m \u001b[38;5;21;01mxgboost\u001b[39;00m \u001b[38;5;28;01mimport\u001b[39;00m XGBRegressor\n\u001b[1;32m     21\u001b[0m \u001b[38;5;66;03m# ANN\u001b[39;00m\n\u001b[0;32m---> 22\u001b[0m \u001b[38;5;28;01mimport\u001b[39;00m \u001b[38;5;21;01mtensorflow\u001b[39;00m \u001b[38;5;28;01mas\u001b[39;00m \u001b[38;5;21;01mtf\u001b[39;00m\n\u001b[1;32m     23\u001b[0m \u001b[38;5;28;01mfrom\u001b[39;00m \u001b[38;5;21;01mtensorflow\u001b[39;00m\u001b[38;5;21;01m.\u001b[39;00m\u001b[38;5;21;01mkeras\u001b[39;00m\u001b[38;5;21;01m.\u001b[39;00m\u001b[38;5;21;01mmodels\u001b[39;00m \u001b[38;5;28;01mimport\u001b[39;00m Sequential\n\u001b[1;32m     24\u001b[0m \u001b[38;5;28;01mfrom\u001b[39;00m \u001b[38;5;21;01mtensorflow\u001b[39;00m\u001b[38;5;21;01m.\u001b[39;00m\u001b[38;5;21;01mkeras\u001b[39;00m\u001b[38;5;21;01m.\u001b[39;00m\u001b[38;5;21;01mlayers\u001b[39;00m \u001b[38;5;28;01mimport\u001b[39;00m Dense, Activation,Dropout\n",
      "\u001b[0;31mModuleNotFoundError\u001b[0m: No module named 'tensorflow'"
     ]
    }
   ],
   "source": [
    "# Foundation\n",
    "import numpy as np \n",
    "import pandas as pd\n",
    "import seaborn as sns\n",
    "import matplotlib.pyplot as plt\n",
    "import datetime\n",
    "\n",
    "# Preprocessing\n",
    "from sklearn.impute import SimpleImputer\n",
    "from sklearn.model_selection import train_test_split\n",
    "from sklearn.preprocessing import MinMaxScaler\n",
    "\n",
    "# Models\n",
    "from sklearn.linear_model import LinearRegression, Ridge, Lasso, ElasticNet\n",
    "from sklearn.tree import DecisionTreeRegressor\n",
    "from sklearn.ensemble import RandomForestRegressor,GradientBoostingRegressor, AdaBoostRegressor\n",
    "from sklearn.neighbors import KNeighborsRegressor\n",
    "from sklearn.svm import SVR\n",
    "from xgboost import XGBRegressor\n",
    "\n",
    "# ANN\n",
    "import tensorflow as tf\n",
    "from tensorflow.keras.models import Sequential\n",
    "from tensorflow.keras.layers import Dense, Activation,Dropout\n",
    "from tensorflow.keras.callbacks import EarlyStopping\n",
    "\n",
    "# Metrics\n",
    "from sklearn.metrics import mean_squared_error, r2_score\n",
    "\n",
    "# Ignore Warnings\n",
    "import warnings\n",
    "# from fancyimpute import KNNImputer not working with old mac\n",
    "warnings.filterwarnings('ignore')"
   ]
  },
  {
   "cell_type": "markdown",
   "id": "3f49532e-196c-41fe-a902-3b169976163b",
   "metadata": {},
   "source": [
    "## Data load"
   ]
  },
  {
   "cell_type": "code",
   "execution_count": 2,
   "id": "37c03f3f-58d2-4aff-bb4a-aa950eecdfda",
   "metadata": {},
   "outputs": [
    {
     "name": "stdout",
     "output_type": "stream",
     "text": [
      "Requirement already satisfied: tensorflow in /Users/grothe/Desktop/ANA680/module3/venv/lib/python3.9/site-packages (2.11.0)\n",
      "Requirement already satisfied: tensorflow-io-gcs-filesystem>=0.23.1 in /Users/grothe/Desktop/ANA680/module3/venv/lib/python3.9/site-packages (from tensorflow) (0.30.0)\n",
      "Requirement already satisfied: tensorboard<2.12,>=2.11 in /Users/grothe/Desktop/ANA680/module3/venv/lib/python3.9/site-packages (from tensorflow) (2.11.2)\n",
      "Requirement already satisfied: keras<2.12,>=2.11.0 in /Users/grothe/Desktop/ANA680/module3/venv/lib/python3.9/site-packages (from tensorflow) (2.11.0)\n",
      "Requirement already satisfied: grpcio<2.0,>=1.24.3 in /Users/grothe/Desktop/ANA680/module3/venv/lib/python3.9/site-packages (from tensorflow) (1.51.1)\n",
      "Requirement already satisfied: setuptools in /Users/grothe/Desktop/ANA680/module3/venv/lib/python3.9/site-packages (from tensorflow) (58.1.0)\n",
      "Requirement already satisfied: gast<=0.4.0,>=0.2.1 in /Users/grothe/Desktop/ANA680/module3/venv/lib/python3.9/site-packages (from tensorflow) (0.4.0)\n",
      "Requirement already satisfied: astunparse>=1.6.0 in /Users/grothe/Desktop/ANA680/module3/venv/lib/python3.9/site-packages (from tensorflow) (1.6.3)\n",
      "Requirement already satisfied: numpy>=1.20 in /Users/grothe/Desktop/ANA680/module3/venv/lib/python3.9/site-packages (from tensorflow) (1.24.1)\n",
      "Requirement already satisfied: protobuf<3.20,>=3.9.2 in /Users/grothe/Desktop/ANA680/module3/venv/lib/python3.9/site-packages (from tensorflow) (3.19.6)\n",
      "Requirement already satisfied: flatbuffers>=2.0 in /Users/grothe/Desktop/ANA680/module3/venv/lib/python3.9/site-packages (from tensorflow) (23.1.21)\n",
      "Requirement already satisfied: wrapt>=1.11.0 in /Users/grothe/Desktop/ANA680/module3/venv/lib/python3.9/site-packages (from tensorflow) (1.14.1)\n",
      "Requirement already satisfied: packaging in /Users/grothe/Desktop/ANA680/module3/venv/lib/python3.9/site-packages (from tensorflow) (23.0)\n",
      "Requirement already satisfied: h5py>=2.9.0 in /Users/grothe/Desktop/ANA680/module3/venv/lib/python3.9/site-packages (from tensorflow) (3.8.0)\n",
      "Requirement already satisfied: tensorflow-estimator<2.12,>=2.11.0 in /Users/grothe/Desktop/ANA680/module3/venv/lib/python3.9/site-packages (from tensorflow) (2.11.0)\n",
      "Requirement already satisfied: termcolor>=1.1.0 in /Users/grothe/Desktop/ANA680/module3/venv/lib/python3.9/site-packages (from tensorflow) (2.2.0)\n",
      "Requirement already satisfied: typing-extensions>=3.6.6 in /Users/grothe/Desktop/ANA680/module3/venv/lib/python3.9/site-packages (from tensorflow) (4.4.0)\n",
      "Requirement already satisfied: absl-py>=1.0.0 in /Users/grothe/Desktop/ANA680/module3/venv/lib/python3.9/site-packages (from tensorflow) (1.4.0)\n",
      "Requirement already satisfied: six>=1.12.0 in /Users/grothe/Desktop/ANA680/module3/venv/lib/python3.9/site-packages (from tensorflow) (1.16.0)\n",
      "Requirement already satisfied: google-pasta>=0.1.1 in /Users/grothe/Desktop/ANA680/module3/venv/lib/python3.9/site-packages (from tensorflow) (0.2.0)\n",
      "Requirement already satisfied: libclang>=13.0.0 in /Users/grothe/Desktop/ANA680/module3/venv/lib/python3.9/site-packages (from tensorflow) (15.0.6.1)\n",
      "Requirement already satisfied: opt-einsum>=2.3.2 in /Users/grothe/Desktop/ANA680/module3/venv/lib/python3.9/site-packages (from tensorflow) (3.3.0)\n",
      "Requirement already satisfied: wheel<1.0,>=0.23.0 in /Users/grothe/Desktop/ANA680/module3/venv/lib/python3.9/site-packages (from astunparse>=1.6.0->tensorflow) (0.38.4)\n",
      "Requirement already satisfied: tensorboard-data-server<0.7.0,>=0.6.0 in /Users/grothe/Desktop/ANA680/module3/venv/lib/python3.9/site-packages (from tensorboard<2.12,>=2.11->tensorflow) (0.6.1)\n",
      "Requirement already satisfied: requests<3,>=2.21.0 in /Users/grothe/Desktop/ANA680/module3/venv/lib/python3.9/site-packages (from tensorboard<2.12,>=2.11->tensorflow) (2.28.2)\n",
      "Requirement already satisfied: google-auth-oauthlib<0.5,>=0.4.1 in /Users/grothe/Desktop/ANA680/module3/venv/lib/python3.9/site-packages (from tensorboard<2.12,>=2.11->tensorflow) (0.4.6)\n",
      "Requirement already satisfied: werkzeug>=1.0.1 in /Users/grothe/Desktop/ANA680/module3/venv/lib/python3.9/site-packages (from tensorboard<2.12,>=2.11->tensorflow) (2.2.2)\n",
      "Requirement already satisfied: tensorboard-plugin-wit>=1.6.0 in /Users/grothe/Desktop/ANA680/module3/venv/lib/python3.9/site-packages (from tensorboard<2.12,>=2.11->tensorflow) (1.8.1)\n",
      "Requirement already satisfied: google-auth<3,>=1.6.3 in /Users/grothe/Desktop/ANA680/module3/venv/lib/python3.9/site-packages (from tensorboard<2.12,>=2.11->tensorflow) (2.16.0)\n",
      "Requirement already satisfied: markdown>=2.6.8 in /Users/grothe/Desktop/ANA680/module3/venv/lib/python3.9/site-packages (from tensorboard<2.12,>=2.11->tensorflow) (3.4.1)\n",
      "Requirement already satisfied: rsa<5,>=3.1.4 in /Users/grothe/Desktop/ANA680/module3/venv/lib/python3.9/site-packages (from google-auth<3,>=1.6.3->tensorboard<2.12,>=2.11->tensorflow) (4.9)\n",
      "Requirement already satisfied: cachetools<6.0,>=2.0.0 in /Users/grothe/Desktop/ANA680/module3/venv/lib/python3.9/site-packages (from google-auth<3,>=1.6.3->tensorboard<2.12,>=2.11->tensorflow) (5.3.0)\n",
      "Requirement already satisfied: pyasn1-modules>=0.2.1 in /Users/grothe/Desktop/ANA680/module3/venv/lib/python3.9/site-packages (from google-auth<3,>=1.6.3->tensorboard<2.12,>=2.11->tensorflow) (0.2.8)\n",
      "Requirement already satisfied: requests-oauthlib>=0.7.0 in /Users/grothe/Desktop/ANA680/module3/venv/lib/python3.9/site-packages (from google-auth-oauthlib<0.5,>=0.4.1->tensorboard<2.12,>=2.11->tensorflow) (1.3.1)\n",
      "Requirement already satisfied: importlib-metadata>=4.4 in /Users/grothe/Desktop/ANA680/module3/venv/lib/python3.9/site-packages (from markdown>=2.6.8->tensorboard<2.12,>=2.11->tensorflow) (6.0.0)\n",
      "Requirement already satisfied: urllib3<1.27,>=1.21.1 in /Users/grothe/Desktop/ANA680/module3/venv/lib/python3.9/site-packages (from requests<3,>=2.21.0->tensorboard<2.12,>=2.11->tensorflow) (1.26.14)\n",
      "Requirement already satisfied: idna<4,>=2.5 in /Users/grothe/Desktop/ANA680/module3/venv/lib/python3.9/site-packages (from requests<3,>=2.21.0->tensorboard<2.12,>=2.11->tensorflow) (3.4)\n",
      "Requirement already satisfied: charset-normalizer<4,>=2 in /Users/grothe/Desktop/ANA680/module3/venv/lib/python3.9/site-packages (from requests<3,>=2.21.0->tensorboard<2.12,>=2.11->tensorflow) (3.0.1)\n",
      "Requirement already satisfied: certifi>=2017.4.17 in /Users/grothe/Desktop/ANA680/module3/venv/lib/python3.9/site-packages (from requests<3,>=2.21.0->tensorboard<2.12,>=2.11->tensorflow) (2022.12.7)\n",
      "Requirement already satisfied: MarkupSafe>=2.1.1 in /Users/grothe/Desktop/ANA680/module3/venv/lib/python3.9/site-packages (from werkzeug>=1.0.1->tensorboard<2.12,>=2.11->tensorflow) (2.1.2)\n",
      "Requirement already satisfied: zipp>=0.5 in /Users/grothe/Desktop/ANA680/module3/venv/lib/python3.9/site-packages (from importlib-metadata>=4.4->markdown>=2.6.8->tensorboard<2.12,>=2.11->tensorflow) (3.11.0)\n",
      "Requirement already satisfied: pyasn1<0.5.0,>=0.4.6 in /Users/grothe/Desktop/ANA680/module3/venv/lib/python3.9/site-packages (from pyasn1-modules>=0.2.1->google-auth<3,>=1.6.3->tensorboard<2.12,>=2.11->tensorflow) (0.4.8)\n",
      "Requirement already satisfied: oauthlib>=3.0.0 in /Users/grothe/Desktop/ANA680/module3/venv/lib/python3.9/site-packages (from requests-oauthlib>=0.7.0->google-auth-oauthlib<0.5,>=0.4.1->tensorboard<2.12,>=2.11->tensorflow) (3.2.2)\n"
     ]
    }
   ],
   "source": [
    "!pip install tensorflow"
   ]
  },
  {
   "cell_type": "markdown",
   "id": "bc9d9500-5b9b-46d1-ad77-b7f657f5e72e",
   "metadata": {},
   "source": [
    "https://www.kaggle.com/datasets/fedesoriano/wind-speed-prediction-dataset"
   ]
  },
  {
   "cell_type": "code",
   "execution_count": 2,
   "id": "94f3093b-4c91-4e71-afcf-7f76256f8eb4",
   "metadata": {},
   "outputs": [
    {
     "data": {
      "text/html": [
       "<div>\n",
       "<style scoped>\n",
       "    .dataframe tbody tr th:only-of-type {\n",
       "        vertical-align: middle;\n",
       "    }\n",
       "\n",
       "    .dataframe tbody tr th {\n",
       "        vertical-align: top;\n",
       "    }\n",
       "\n",
       "    .dataframe thead th {\n",
       "        text-align: right;\n",
       "    }\n",
       "</style>\n",
       "<table border=\"1\" class=\"dataframe\">\n",
       "  <thead>\n",
       "    <tr style=\"text-align: right;\">\n",
       "      <th></th>\n",
       "      <th>DATE</th>\n",
       "      <th>WIND</th>\n",
       "      <th>IND</th>\n",
       "      <th>RAIN</th>\n",
       "      <th>IND.1</th>\n",
       "      <th>T.MAX</th>\n",
       "      <th>IND.2</th>\n",
       "      <th>T.MIN</th>\n",
       "      <th>T.MIN.G</th>\n",
       "    </tr>\n",
       "  </thead>\n",
       "  <tbody>\n",
       "    <tr>\n",
       "      <th>0</th>\n",
       "      <td>1961-01-01</td>\n",
       "      <td>13.67</td>\n",
       "      <td>0</td>\n",
       "      <td>0.2</td>\n",
       "      <td>0.0</td>\n",
       "      <td>9.5</td>\n",
       "      <td>0.0</td>\n",
       "      <td>3.7</td>\n",
       "      <td>-1.0</td>\n",
       "    </tr>\n",
       "    <tr>\n",
       "      <th>1</th>\n",
       "      <td>1961-01-02</td>\n",
       "      <td>11.50</td>\n",
       "      <td>0</td>\n",
       "      <td>5.1</td>\n",
       "      <td>0.0</td>\n",
       "      <td>7.2</td>\n",
       "      <td>0.0</td>\n",
       "      <td>4.2</td>\n",
       "      <td>1.1</td>\n",
       "    </tr>\n",
       "    <tr>\n",
       "      <th>2</th>\n",
       "      <td>1961-01-03</td>\n",
       "      <td>11.25</td>\n",
       "      <td>0</td>\n",
       "      <td>0.4</td>\n",
       "      <td>0.0</td>\n",
       "      <td>5.5</td>\n",
       "      <td>0.0</td>\n",
       "      <td>0.5</td>\n",
       "      <td>-0.5</td>\n",
       "    </tr>\n",
       "    <tr>\n",
       "      <th>3</th>\n",
       "      <td>1961-01-04</td>\n",
       "      <td>8.63</td>\n",
       "      <td>0</td>\n",
       "      <td>0.2</td>\n",
       "      <td>0.0</td>\n",
       "      <td>5.6</td>\n",
       "      <td>0.0</td>\n",
       "      <td>0.4</td>\n",
       "      <td>-3.2</td>\n",
       "    </tr>\n",
       "    <tr>\n",
       "      <th>4</th>\n",
       "      <td>1961-01-05</td>\n",
       "      <td>11.92</td>\n",
       "      <td>0</td>\n",
       "      <td>10.4</td>\n",
       "      <td>0.0</td>\n",
       "      <td>7.2</td>\n",
       "      <td>1.0</td>\n",
       "      <td>-1.5</td>\n",
       "      <td>-7.5</td>\n",
       "    </tr>\n",
       "    <tr>\n",
       "      <th>...</th>\n",
       "      <td>...</td>\n",
       "      <td>...</td>\n",
       "      <td>...</td>\n",
       "      <td>...</td>\n",
       "      <td>...</td>\n",
       "      <td>...</td>\n",
       "      <td>...</td>\n",
       "      <td>...</td>\n",
       "      <td>...</td>\n",
       "    </tr>\n",
       "    <tr>\n",
       "      <th>6569</th>\n",
       "      <td>1978-12-27</td>\n",
       "      <td>14.46</td>\n",
       "      <td>0</td>\n",
       "      <td>16.8</td>\n",
       "      <td>0.0</td>\n",
       "      <td>9.8</td>\n",
       "      <td>0.0</td>\n",
       "      <td>4.0</td>\n",
       "      <td>0.0</td>\n",
       "    </tr>\n",
       "    <tr>\n",
       "      <th>6570</th>\n",
       "      <td>1978-12-28</td>\n",
       "      <td>14.33</td>\n",
       "      <td>0</td>\n",
       "      <td>16.0</td>\n",
       "      <td>0.0</td>\n",
       "      <td>9.1</td>\n",
       "      <td>0.0</td>\n",
       "      <td>8.5</td>\n",
       "      <td>8.0</td>\n",
       "    </tr>\n",
       "    <tr>\n",
       "      <th>6571</th>\n",
       "      <td>1978-12-29</td>\n",
       "      <td>19.17</td>\n",
       "      <td>0</td>\n",
       "      <td>14.7</td>\n",
       "      <td>0.0</td>\n",
       "      <td>5.0</td>\n",
       "      <td>0.0</td>\n",
       "      <td>3.5</td>\n",
       "      <td>3.2</td>\n",
       "    </tr>\n",
       "    <tr>\n",
       "      <th>6572</th>\n",
       "      <td>1978-12-30</td>\n",
       "      <td>18.08</td>\n",
       "      <td>0</td>\n",
       "      <td>4.9</td>\n",
       "      <td>0.0</td>\n",
       "      <td>2.9</td>\n",
       "      <td>0.0</td>\n",
       "      <td>0.3</td>\n",
       "      <td>-0.5</td>\n",
       "    </tr>\n",
       "    <tr>\n",
       "      <th>6573</th>\n",
       "      <td>1978-12-31</td>\n",
       "      <td>19.25</td>\n",
       "      <td>0</td>\n",
       "      <td>0.5</td>\n",
       "      <td>0.0</td>\n",
       "      <td>1.2</td>\n",
       "      <td>1.0</td>\n",
       "      <td>-1.5</td>\n",
       "      <td>-3.0</td>\n",
       "    </tr>\n",
       "  </tbody>\n",
       "</table>\n",
       "<p>6574 rows × 9 columns</p>\n",
       "</div>"
      ],
      "text/plain": [
       "            DATE   WIND  IND  RAIN  IND.1  T.MAX  IND.2  T.MIN  T.MIN.G\n",
       "0     1961-01-01  13.67    0   0.2    0.0    9.5    0.0    3.7     -1.0\n",
       "1     1961-01-02  11.50    0   5.1    0.0    7.2    0.0    4.2      1.1\n",
       "2     1961-01-03  11.25    0   0.4    0.0    5.5    0.0    0.5     -0.5\n",
       "3     1961-01-04   8.63    0   0.2    0.0    5.6    0.0    0.4     -3.2\n",
       "4     1961-01-05  11.92    0  10.4    0.0    7.2    1.0   -1.5     -7.5\n",
       "...          ...    ...  ...   ...    ...    ...    ...    ...      ...\n",
       "6569  1978-12-27  14.46    0  16.8    0.0    9.8    0.0    4.0      0.0\n",
       "6570  1978-12-28  14.33    0  16.0    0.0    9.1    0.0    8.5      8.0\n",
       "6571  1978-12-29  19.17    0  14.7    0.0    5.0    0.0    3.5      3.2\n",
       "6572  1978-12-30  18.08    0   4.9    0.0    2.9    0.0    0.3     -0.5\n",
       "6573  1978-12-31  19.25    0   0.5    0.0    1.2    1.0   -1.5     -3.0\n",
       "\n",
       "[6574 rows x 9 columns]"
      ]
     },
     "execution_count": 2,
     "metadata": {},
     "output_type": "execute_result"
    }
   ],
   "source": [
    "df = pd.read_csv(\"../jupyter/Data/wind_dataset.csv\")\n",
    "df"
   ]
  },
  {
   "cell_type": "code",
   "execution_count": 3,
   "id": "51f28d55-6d12-4ebf-aed4-ec6f0ad5006d",
   "metadata": {},
   "outputs": [],
   "source": [
    "target = 'WIND'"
   ]
  },
  {
   "cell_type": "markdown",
   "id": "d932220f-d286-48f1-af9c-0be5084b9edb",
   "metadata": {},
   "source": [
    "## Exploration and Visualization"
   ]
  },
  {
   "cell_type": "code",
   "execution_count": 4,
   "id": "52fefec9-8339-404c-a4d8-5dae796bae30",
   "metadata": {},
   "outputs": [
    {
     "data": {
      "text/html": [
       "<div>\n",
       "<style scoped>\n",
       "    .dataframe tbody tr th:only-of-type {\n",
       "        vertical-align: middle;\n",
       "    }\n",
       "\n",
       "    .dataframe tbody tr th {\n",
       "        vertical-align: top;\n",
       "    }\n",
       "\n",
       "    .dataframe thead th {\n",
       "        text-align: right;\n",
       "    }\n",
       "</style>\n",
       "<table border=\"1\" class=\"dataframe\">\n",
       "  <thead>\n",
       "    <tr style=\"text-align: right;\">\n",
       "      <th></th>\n",
       "      <th>count</th>\n",
       "      <th>mean</th>\n",
       "      <th>std</th>\n",
       "      <th>min</th>\n",
       "      <th>25%</th>\n",
       "      <th>50%</th>\n",
       "      <th>75%</th>\n",
       "      <th>max</th>\n",
       "    </tr>\n",
       "  </thead>\n",
       "  <tbody>\n",
       "    <tr>\n",
       "      <th>WIND</th>\n",
       "      <td>6574.0</td>\n",
       "      <td>9.80</td>\n",
       "      <td>4.98</td>\n",
       "      <td>0.0</td>\n",
       "      <td>6.0</td>\n",
       "      <td>9.21</td>\n",
       "      <td>12.96</td>\n",
       "      <td>30.37</td>\n",
       "    </tr>\n",
       "    <tr>\n",
       "      <th>IND</th>\n",
       "      <td>6574.0</td>\n",
       "      <td>0.39</td>\n",
       "      <td>1.18</td>\n",
       "      <td>0.0</td>\n",
       "      <td>0.0</td>\n",
       "      <td>0.00</td>\n",
       "      <td>0.00</td>\n",
       "      <td>4.00</td>\n",
       "    </tr>\n",
       "    <tr>\n",
       "      <th>RAIN</th>\n",
       "      <td>6574.0</td>\n",
       "      <td>1.89</td>\n",
       "      <td>4.03</td>\n",
       "      <td>0.0</td>\n",
       "      <td>0.0</td>\n",
       "      <td>0.20</td>\n",
       "      <td>2.00</td>\n",
       "      <td>67.00</td>\n",
       "    </tr>\n",
       "    <tr>\n",
       "      <th>IND.1</th>\n",
       "      <td>6513.0</td>\n",
       "      <td>0.36</td>\n",
       "      <td>1.13</td>\n",
       "      <td>0.0</td>\n",
       "      <td>0.0</td>\n",
       "      <td>0.00</td>\n",
       "      <td>0.00</td>\n",
       "      <td>4.00</td>\n",
       "    </tr>\n",
       "    <tr>\n",
       "      <th>T.MAX</th>\n",
       "      <td>5953.0</td>\n",
       "      <td>13.34</td>\n",
       "      <td>4.89</td>\n",
       "      <td>-0.1</td>\n",
       "      <td>9.6</td>\n",
       "      <td>13.30</td>\n",
       "      <td>17.20</td>\n",
       "      <td>26.80</td>\n",
       "    </tr>\n",
       "    <tr>\n",
       "      <th>IND.2</th>\n",
       "      <td>6513.0</td>\n",
       "      <td>0.46</td>\n",
       "      <td>1.18</td>\n",
       "      <td>0.0</td>\n",
       "      <td>0.0</td>\n",
       "      <td>0.00</td>\n",
       "      <td>0.00</td>\n",
       "      <td>4.00</td>\n",
       "    </tr>\n",
       "    <tr>\n",
       "      <th>T.MIN</th>\n",
       "      <td>5900.0</td>\n",
       "      <td>6.41</td>\n",
       "      <td>4.64</td>\n",
       "      <td>-11.5</td>\n",
       "      <td>3.0</td>\n",
       "      <td>6.50</td>\n",
       "      <td>10.00</td>\n",
       "      <td>18.00</td>\n",
       "    </tr>\n",
       "    <tr>\n",
       "      <th>T.MIN.G</th>\n",
       "      <td>6214.0</td>\n",
       "      <td>2.74</td>\n",
       "      <td>5.57</td>\n",
       "      <td>-14.4</td>\n",
       "      <td>-1.0</td>\n",
       "      <td>3.00</td>\n",
       "      <td>7.00</td>\n",
       "      <td>15.80</td>\n",
       "    </tr>\n",
       "  </tbody>\n",
       "</table>\n",
       "</div>"
      ],
      "text/plain": [
       "          count   mean   std   min  25%    50%    75%    max\n",
       "WIND     6574.0   9.80  4.98   0.0  6.0   9.21  12.96  30.37\n",
       "IND      6574.0   0.39  1.18   0.0  0.0   0.00   0.00   4.00\n",
       "RAIN     6574.0   1.89  4.03   0.0  0.0   0.20   2.00  67.00\n",
       "IND.1    6513.0   0.36  1.13   0.0  0.0   0.00   0.00   4.00\n",
       "T.MAX    5953.0  13.34  4.89  -0.1  9.6  13.30  17.20  26.80\n",
       "IND.2    6513.0   0.46  1.18   0.0  0.0   0.00   0.00   4.00\n",
       "T.MIN    5900.0   6.41  4.64 -11.5  3.0   6.50  10.00  18.00\n",
       "T.MIN.G  6214.0   2.74  5.57 -14.4 -1.0   3.00   7.00  15.80"
      ]
     },
     "execution_count": 4,
     "metadata": {},
     "output_type": "execute_result"
    }
   ],
   "source": [
    "df.describe().round(2).T"
   ]
  },
  {
   "cell_type": "code",
   "execution_count": 5,
   "id": "1b5a61eb-d201-419e-bd0b-ab0bc65ae546",
   "metadata": {},
   "outputs": [
    {
     "name": "stdout",
     "output_type": "stream",
     "text": [
      "<class 'pandas.core.frame.DataFrame'>\n",
      "RangeIndex: 6574 entries, 0 to 6573\n",
      "Data columns (total 9 columns):\n",
      " #   Column   Non-Null Count  Dtype  \n",
      "---  ------   --------------  -----  \n",
      " 0   DATE     6574 non-null   object \n",
      " 1   WIND     6574 non-null   float64\n",
      " 2   IND      6574 non-null   int64  \n",
      " 3   RAIN     6574 non-null   float64\n",
      " 4   IND.1    6513 non-null   float64\n",
      " 5   T.MAX    5953 non-null   float64\n",
      " 6   IND.2    6513 non-null   float64\n",
      " 7   T.MIN    5900 non-null   float64\n",
      " 8   T.MIN.G  6214 non-null   float64\n",
      "dtypes: float64(7), int64(1), object(1)\n",
      "memory usage: 462.4+ KB\n"
     ]
    }
   ],
   "source": [
    "df.info()"
   ]
  },
  {
   "cell_type": "code",
   "execution_count": 6,
   "id": "533abaf2-d9d7-456f-a995-9115dcabc51a",
   "metadata": {},
   "outputs": [
    {
     "data": {
      "text/plain": [
       "False    6574\n",
       "Name: DATE, dtype: int64"
      ]
     },
     "execution_count": 6,
     "metadata": {},
     "output_type": "execute_result"
    }
   ],
   "source": [
    "# Check date col for duplicate\n",
    "df['DATE'].duplicated().value_counts()"
   ]
  },
  {
   "cell_type": "code",
   "execution_count": 7,
   "id": "0f405c32-7267-4bfd-98d6-2d457d2cb9f5",
   "metadata": {},
   "outputs": [
    {
     "data": {
      "text/plain": [
       "dtype('O')"
      ]
     },
     "execution_count": 7,
     "metadata": {},
     "output_type": "execute_result"
    }
   ],
   "source": [
    "# Check Date data type\n",
    "df['DATE'].dtypes"
   ]
  },
  {
   "cell_type": "code",
   "execution_count": 8,
   "id": "8c1cd51f-41df-412b-a5dd-7649770917b4",
   "metadata": {},
   "outputs": [
    {
     "data": {
      "text/plain": [
       "WIND       1.00\n",
       "RAIN       0.12\n",
       "IND.1      0.07\n",
       "IND.2      0.05\n",
       "T.MIN.G    0.01\n",
       "IND       -0.04\n",
       "T.MIN     -0.09\n",
       "T.MAX     -0.24\n",
       "Name: WIND, dtype: float64"
      ]
     },
     "execution_count": 8,
     "metadata": {},
     "output_type": "execute_result"
    }
   ],
   "source": [
    "# Correlation to target\n",
    "cor = df.corr().round(2)\n",
    "cor.sort_values([target],ascending=False,inplace=True)\n",
    "cor.WIND"
   ]
  },
  {
   "cell_type": "code",
   "execution_count": 9,
   "id": "cf20632b-fba5-4175-a5c2-8e6a9fba570f",
   "metadata": {},
   "outputs": [],
   "source": [
    "# Explore "
   ]
  },
  {
   "cell_type": "code",
   "execution_count": 10,
   "id": "b5a28972-3a8f-4c9c-8145-422e217c4018",
   "metadata": {},
   "outputs": [
    {
     "data": {
      "image/png": "[encoded data removed]",
      "text/plain": [
       "<Figure size 1000x1000 with 9 Axes>"
      ]
     },
     "metadata": {},
     "output_type": "display_data"
    }
   ],
   "source": [
    "# select the columns to be plotted\n",
    "cols = df.drop(columns=['DATE'])\n",
    "\n",
    "# create the figure and axes\n",
    "fig, axes = plt.subplots(3, 3)\n",
    "fig.set_size_inches(10, 10)  # ( x , y )\n",
    "axes = axes.ravel()  # flattening the array makes indexing easier\n",
    "for col, ax in zip(cols, axes):\n",
    "    sns.histplot(data=df[col], kde=True, ax = ax)\n",
    "\n",
    "plt.show()"
   ]
  },
  {
   "cell_type": "code",
   "execution_count": 11,
   "id": "273d923a-39b2-4555-8fe7-f1ebb0a3849a",
   "metadata": {},
   "outputs": [
    {
     "data": {
      "image/png": "[encoded data removed]",
      "text/plain": [
       "<Figure size 1000x2000 with 9 Axes>"
      ]
     },
     "metadata": {},
     "output_type": "display_data"
    }
   ],
   "source": [
    "# create the figure and axes\n",
    "fig, axes = plt.subplots(3, 3)\n",
    "axes = axes.ravel()  # flattening the array makes indexing easier\n",
    "fig.set_size_inches(10, 20)  # ( x , y )\n",
    "for col, ax in zip(cols, axes):\n",
    "    sns.boxplot(ax =ax,y=df[col])\n",
    "plt.show()"
   ]
  },
  {
   "cell_type": "markdown",
   "id": "87464f0b-07d4-4006-ae45-fe395a9a80cd",
   "metadata": {},
   "source": [
    "**Column Names**"
   ]
  },
  {
   "cell_type": "code",
   "execution_count": 12,
   "id": "0ff5c819-04c1-4b22-9615-0393a2fe4696",
   "metadata": {},
   "outputs": [],
   "source": [
    "# Remove '.' in Column Names                             \n",
    "df = df.rename(columns={'T.MIN':'T_MIN'})\n",
    "df = df.rename(columns={'T.MAX':'T_MAX'})\n",
    "df = df.rename(columns={'T.MIN.G':'T_MIN_G'})\n",
    "df = df.rename(columns={'IND.1':'IND_1'})\n",
    "df = df.rename(columns={'IND.2':'IND_2'})"
   ]
  },
  {
   "cell_type": "markdown",
   "id": "dd033946-5f80-4a8a-a1e1-2de8f91e0572",
   "metadata": {},
   "source": [
    "**Value counts see if numerical is categorical**"
   ]
  },
  {
   "cell_type": "code",
   "execution_count": 16,
   "id": "4fe379d5-1574-4308-a84b-46f086a00cd3",
   "metadata": {},
   "outputs": [
    {
     "data": {
      "text/plain": [
       "0    5893\n",
       "4     631\n",
       "1      50\n",
       "Name: IND, dtype: int64"
      ]
     },
     "execution_count": 16,
     "metadata": {},
     "output_type": "execute_result"
    }
   ],
   "source": [
    "df['IND'].value_counts()"
   ]
  },
  {
   "cell_type": "code",
   "execution_count": 17,
   "id": "708ab3f9-efec-42e8-8ae8-6885bab7dccf",
   "metadata": {},
   "outputs": [
    {
     "data": {
      "text/plain": [
       "0.0    5912\n",
       "4.0     560\n",
       "2.0      40\n",
       "1.0       1\n",
       "Name: IND_1, dtype: int64"
      ]
     },
     "execution_count": 17,
     "metadata": {},
     "output_type": "execute_result"
    }
   ],
   "source": [
    "# Run Col Rename first\n",
    "df['IND_1'].value_counts()"
   ]
  },
  {
   "cell_type": "code",
   "execution_count": 18,
   "id": "ffc1cff3-23a5-4f32-8ab0-2636356a9cd1",
   "metadata": {},
   "outputs": [
    {
     "data": {
      "text/plain": [
       "0.0    5352\n",
       "4.0     613\n",
       "1.0     525\n",
       "2.0      21\n",
       "3.0       2\n",
       "Name: IND_2, dtype: int64"
      ]
     },
     "execution_count": 18,
     "metadata": {},
     "output_type": "execute_result"
    }
   ],
   "source": [
    "df['IND_2'].value_counts()"
   ]
  },
  {
   "cell_type": "markdown",
   "id": "26c1049b-a895-4a54-aa83-b2b8b0936d3b",
   "metadata": {},
   "source": [
    "## Data Transformation"
   ]
  },
  {
   "cell_type": "code",
   "execution_count": 19,
   "id": "4cf4ba90-7d81-4bf0-a30f-6955f69e4bd2",
   "metadata": {},
   "outputs": [],
   "source": [
    "# Change Date to datetime object\n",
    "df['DATE'] = pd.to_datetime(df['DATE'])"
   ]
  },
  {
   "cell_type": "markdown",
   "id": "9e4a3017-6e00-4c65-a461-c9c15817a4a5",
   "metadata": {},
   "source": [
    "**Missing Values**"
   ]
  },
  {
   "cell_type": "code",
   "execution_count": 20,
   "id": "6c0af2f2-eedf-4aeb-9ed1-d812f92c0cbb",
   "metadata": {},
   "outputs": [
    {
     "name": "stdout",
     "output_type": "stream",
     "text": [
      "T_MIN      674\n",
      "T_MAX      621\n",
      "T_MIN_G    360\n",
      "IND_1       61\n",
      "IND_2       61\n",
      "DATE         0\n",
      "WIND         0\n",
      "IND          0\n",
      "RAIN         0\n",
      "dtype: int64\n"
     ]
    }
   ],
   "source": [
    "print(df.isnull().sum().sort_values(ascending=False))"
   ]
  },
  {
   "cell_type": "code",
   "execution_count": null,
   "id": "cb90fd5f-168c-44b2-aad6-93bd535020e6",
   "metadata": {},
   "outputs": [],
   "source": [
    "df[]"
   ]
  },
  {
   "cell_type": "code",
   "execution_count": 21,
   "id": "00828359-51a5-47a7-8d6a-a2ec3e79b4aa",
   "metadata": {},
   "outputs": [
    {
     "data": {
      "text/html": [
       "<div>\n",
       "<style scoped>\n",
       "    .dataframe tbody tr th:only-of-type {\n",
       "        vertical-align: middle;\n",
       "    }\n",
       "\n",
       "    .dataframe tbody tr th {\n",
       "        vertical-align: top;\n",
       "    }\n",
       "\n",
       "    .dataframe thead th {\n",
       "        text-align: right;\n",
       "    }\n",
       "</style>\n",
       "<table border=\"1\" class=\"dataframe\">\n",
       "  <thead>\n",
       "    <tr style=\"text-align: right;\">\n",
       "      <th></th>\n",
       "      <th>DATE</th>\n",
       "      <th>WIND</th>\n",
       "      <th>IND</th>\n",
       "      <th>RAIN</th>\n",
       "      <th>IND_1</th>\n",
       "      <th>T_MAX</th>\n",
       "      <th>IND_2</th>\n",
       "      <th>T_MIN</th>\n",
       "      <th>T_MIN_G</th>\n",
       "    </tr>\n",
       "  </thead>\n",
       "  <tbody>\n",
       "    <tr>\n",
       "      <th>11</th>\n",
       "      <td>1961-01-12</td>\n",
       "      <td>15.54</td>\n",
       "      <td>0</td>\n",
       "      <td>6.0</td>\n",
       "      <td>0.0</td>\n",
       "      <td>12.2</td>\n",
       "      <td>1.0</td>\n",
       "      <td>-3.3</td>\n",
       "      <td>NaN</td>\n",
       "    </tr>\n",
       "    <tr>\n",
       "      <th>70</th>\n",
       "      <td>1961-03-12</td>\n",
       "      <td>17.12</td>\n",
       "      <td>0</td>\n",
       "      <td>0.1</td>\n",
       "      <td>0.0</td>\n",
       "      <td>13.4</td>\n",
       "      <td>0.0</td>\n",
       "      <td>4.8</td>\n",
       "      <td>NaN</td>\n",
       "    </tr>\n",
       "    <tr>\n",
       "      <th>109</th>\n",
       "      <td>1961-04-20</td>\n",
       "      <td>12.25</td>\n",
       "      <td>0</td>\n",
       "      <td>1.0</td>\n",
       "      <td>0.0</td>\n",
       "      <td>12.4</td>\n",
       "      <td>0.0</td>\n",
       "      <td>7.5</td>\n",
       "      <td>NaN</td>\n",
       "    </tr>\n",
       "    <tr>\n",
       "      <th>119</th>\n",
       "      <td>1961-04-30</td>\n",
       "      <td>5.09</td>\n",
       "      <td>0</td>\n",
       "      <td>1.6</td>\n",
       "      <td>0.0</td>\n",
       "      <td>16.5</td>\n",
       "      <td>0.0</td>\n",
       "      <td>9.0</td>\n",
       "      <td>NaN</td>\n",
       "    </tr>\n",
       "    <tr>\n",
       "      <th>120</th>\n",
       "      <td>1961-05-01</td>\n",
       "      <td>9.96</td>\n",
       "      <td>0</td>\n",
       "      <td>7.3</td>\n",
       "      <td>0.0</td>\n",
       "      <td>19.2</td>\n",
       "      <td>0.0</td>\n",
       "      <td>8.2</td>\n",
       "      <td>NaN</td>\n",
       "    </tr>\n",
       "    <tr>\n",
       "      <th>...</th>\n",
       "      <td>...</td>\n",
       "      <td>...</td>\n",
       "      <td>...</td>\n",
       "      <td>...</td>\n",
       "      <td>...</td>\n",
       "      <td>...</td>\n",
       "      <td>...</td>\n",
       "      <td>...</td>\n",
       "      <td>...</td>\n",
       "    </tr>\n",
       "    <tr>\n",
       "      <th>6359</th>\n",
       "      <td>1978-05-31</td>\n",
       "      <td>4.83</td>\n",
       "      <td>0</td>\n",
       "      <td>0.0</td>\n",
       "      <td>0.0</td>\n",
       "      <td>22.5</td>\n",
       "      <td>0.0</td>\n",
       "      <td>12.5</td>\n",
       "      <td>NaN</td>\n",
       "    </tr>\n",
       "    <tr>\n",
       "      <th>6477</th>\n",
       "      <td>1978-09-26</td>\n",
       "      <td>16.58</td>\n",
       "      <td>0</td>\n",
       "      <td>4.1</td>\n",
       "      <td>0.0</td>\n",
       "      <td>15.2</td>\n",
       "      <td>0.0</td>\n",
       "      <td>10.2</td>\n",
       "      <td>NaN</td>\n",
       "    </tr>\n",
       "    <tr>\n",
       "      <th>6555</th>\n",
       "      <td>1978-12-13</td>\n",
       "      <td>13.00</td>\n",
       "      <td>0</td>\n",
       "      <td>13.2</td>\n",
       "      <td>4.0</td>\n",
       "      <td>NaN</td>\n",
       "      <td>4.0</td>\n",
       "      <td>NaN</td>\n",
       "      <td>NaN</td>\n",
       "    </tr>\n",
       "    <tr>\n",
       "      <th>6556</th>\n",
       "      <td>1978-12-14</td>\n",
       "      <td>8.83</td>\n",
       "      <td>0</td>\n",
       "      <td>6.4</td>\n",
       "      <td>4.0</td>\n",
       "      <td>NaN</td>\n",
       "      <td>4.0</td>\n",
       "      <td>NaN</td>\n",
       "      <td>NaN</td>\n",
       "    </tr>\n",
       "    <tr>\n",
       "      <th>6557</th>\n",
       "      <td>1978-12-15</td>\n",
       "      <td>12.67</td>\n",
       "      <td>0</td>\n",
       "      <td>0.8</td>\n",
       "      <td>4.0</td>\n",
       "      <td>NaN</td>\n",
       "      <td>4.0</td>\n",
       "      <td>NaN</td>\n",
       "      <td>NaN</td>\n",
       "    </tr>\n",
       "  </tbody>\n",
       "</table>\n",
       "<p>936 rows × 9 columns</p>\n",
       "</div>"
      ],
      "text/plain": [
       "           DATE   WIND  IND  RAIN  IND_1  T_MAX  IND_2  T_MIN  T_MIN_G\n",
       "11   1961-01-12  15.54    0   6.0    0.0   12.2    1.0   -3.3      NaN\n",
       "70   1961-03-12  17.12    0   0.1    0.0   13.4    0.0    4.8      NaN\n",
       "109  1961-04-20  12.25    0   1.0    0.0   12.4    0.0    7.5      NaN\n",
       "119  1961-04-30   5.09    0   1.6    0.0   16.5    0.0    9.0      NaN\n",
       "120  1961-05-01   9.96    0   7.3    0.0   19.2    0.0    8.2      NaN\n",
       "...         ...    ...  ...   ...    ...    ...    ...    ...      ...\n",
       "6359 1978-05-31   4.83    0   0.0    0.0   22.5    0.0   12.5      NaN\n",
       "6477 1978-09-26  16.58    0   4.1    0.0   15.2    0.0   10.2      NaN\n",
       "6555 1978-12-13  13.00    0  13.2    4.0    NaN    4.0    NaN      NaN\n",
       "6556 1978-12-14   8.83    0   6.4    4.0    NaN    4.0    NaN      NaN\n",
       "6557 1978-12-15  12.67    0   0.8    4.0    NaN    4.0    NaN      NaN\n",
       "\n",
       "[936 rows x 9 columns]"
      ]
     },
     "execution_count": 21,
     "metadata": {},
     "output_type": "execute_result"
    }
   ],
   "source": [
    "# Print Rows with Missing Values\n",
    "df[df.isnull().any(axis=1)]"
   ]
  },
  {
   "cell_type": "code",
   "execution_count": 25,
   "id": "e41ddb0a-7be2-46f0-a1f8-39f90965fde5",
   "metadata": {},
   "outputs": [],
   "source": [
    "df_missing = df[['T_MIN','T_MAX','T_MIN_G','IND_1','IND_2']]"
   ]
  },
  {
   "cell_type": "code",
   "execution_count": 26,
   "id": "c00060e1-1f5d-45cf-8cc5-9f341ab04ca9",
   "metadata": {},
   "outputs": [],
   "source": [
    "imputer = SimpleImputer(strategy='most_frequent')\n",
    "\n",
    "# df_imputed = pd.DataFrame(imputer.fit_transform(df_missing),columns=df.columns)\n",
    "df_imputed = imputer.fit_transform(df_missing)"
   ]
  },
  {
   "cell_type": "code",
   "execution_count": 38,
   "id": "bec1d8f2-67b0-4e18-b8cd-db582fa713d7",
   "metadata": {},
   "outputs": [
    {
     "data": {
      "text/html": [
       "<div>\n",
       "<style scoped>\n",
       "    .dataframe tbody tr th:only-of-type {\n",
       "        vertical-align: middle;\n",
       "    }\n",
       "\n",
       "    .dataframe tbody tr th {\n",
       "        vertical-align: top;\n",
       "    }\n",
       "\n",
       "    .dataframe thead th {\n",
       "        text-align: right;\n",
       "    }\n",
       "</style>\n",
       "<table border=\"1\" class=\"dataframe\">\n",
       "  <thead>\n",
       "    <tr style=\"text-align: right;\">\n",
       "      <th></th>\n",
       "      <th>DATE</th>\n",
       "      <th>WIND</th>\n",
       "      <th>IND</th>\n",
       "      <th>RAIN</th>\n",
       "      <th>T_MIN</th>\n",
       "      <th>T_MAX</th>\n",
       "      <th>T_MIN_G</th>\n",
       "      <th>IND_1</th>\n",
       "      <th>IND_2</th>\n",
       "    </tr>\n",
       "  </thead>\n",
       "  <tbody>\n",
       "    <tr>\n",
       "      <th>0</th>\n",
       "      <td>1961-01-01</td>\n",
       "      <td>13.67</td>\n",
       "      <td>0</td>\n",
       "      <td>0.2</td>\n",
       "      <td>3.7</td>\n",
       "      <td>9.5</td>\n",
       "      <td>-1.0</td>\n",
       "      <td>0.0</td>\n",
       "      <td>0.0</td>\n",
       "    </tr>\n",
       "    <tr>\n",
       "      <th>1</th>\n",
       "      <td>1961-01-02</td>\n",
       "      <td>11.50</td>\n",
       "      <td>0</td>\n",
       "      <td>5.1</td>\n",
       "      <td>4.2</td>\n",
       "      <td>7.2</td>\n",
       "      <td>1.1</td>\n",
       "      <td>0.0</td>\n",
       "      <td>0.0</td>\n",
       "    </tr>\n",
       "    <tr>\n",
       "      <th>2</th>\n",
       "      <td>1961-01-03</td>\n",
       "      <td>11.25</td>\n",
       "      <td>0</td>\n",
       "      <td>0.4</td>\n",
       "      <td>0.5</td>\n",
       "      <td>5.5</td>\n",
       "      <td>-0.5</td>\n",
       "      <td>0.0</td>\n",
       "      <td>0.0</td>\n",
       "    </tr>\n",
       "    <tr>\n",
       "      <th>3</th>\n",
       "      <td>1961-01-04</td>\n",
       "      <td>8.63</td>\n",
       "      <td>0</td>\n",
       "      <td>0.2</td>\n",
       "      <td>0.4</td>\n",
       "      <td>5.6</td>\n",
       "      <td>-3.2</td>\n",
       "      <td>0.0</td>\n",
       "      <td>0.0</td>\n",
       "    </tr>\n",
       "    <tr>\n",
       "      <th>4</th>\n",
       "      <td>1961-01-05</td>\n",
       "      <td>11.92</td>\n",
       "      <td>0</td>\n",
       "      <td>10.4</td>\n",
       "      <td>-1.5</td>\n",
       "      <td>7.2</td>\n",
       "      <td>-7.5</td>\n",
       "      <td>0.0</td>\n",
       "      <td>1.0</td>\n",
       "    </tr>\n",
       "    <tr>\n",
       "      <th>...</th>\n",
       "      <td>...</td>\n",
       "      <td>...</td>\n",
       "      <td>...</td>\n",
       "      <td>...</td>\n",
       "      <td>...</td>\n",
       "      <td>...</td>\n",
       "      <td>...</td>\n",
       "      <td>...</td>\n",
       "      <td>...</td>\n",
       "    </tr>\n",
       "    <tr>\n",
       "      <th>6569</th>\n",
       "      <td>1978-12-27</td>\n",
       "      <td>14.46</td>\n",
       "      <td>0</td>\n",
       "      <td>16.8</td>\n",
       "      <td>4.0</td>\n",
       "      <td>9.8</td>\n",
       "      <td>0.0</td>\n",
       "      <td>0.0</td>\n",
       "      <td>0.0</td>\n",
       "    </tr>\n",
       "    <tr>\n",
       "      <th>6570</th>\n",
       "      <td>1978-12-28</td>\n",
       "      <td>14.33</td>\n",
       "      <td>0</td>\n",
       "      <td>16.0</td>\n",
       "      <td>8.5</td>\n",
       "      <td>9.1</td>\n",
       "      <td>8.0</td>\n",
       "      <td>0.0</td>\n",
       "      <td>0.0</td>\n",
       "    </tr>\n",
       "    <tr>\n",
       "      <th>6571</th>\n",
       "      <td>1978-12-29</td>\n",
       "      <td>19.17</td>\n",
       "      <td>0</td>\n",
       "      <td>14.7</td>\n",
       "      <td>3.5</td>\n",
       "      <td>5.0</td>\n",
       "      <td>3.2</td>\n",
       "      <td>0.0</td>\n",
       "      <td>0.0</td>\n",
       "    </tr>\n",
       "    <tr>\n",
       "      <th>6572</th>\n",
       "      <td>1978-12-30</td>\n",
       "      <td>18.08</td>\n",
       "      <td>0</td>\n",
       "      <td>4.9</td>\n",
       "      <td>0.3</td>\n",
       "      <td>2.9</td>\n",
       "      <td>-0.5</td>\n",
       "      <td>0.0</td>\n",
       "      <td>0.0</td>\n",
       "    </tr>\n",
       "    <tr>\n",
       "      <th>6573</th>\n",
       "      <td>1978-12-31</td>\n",
       "      <td>19.25</td>\n",
       "      <td>0</td>\n",
       "      <td>0.5</td>\n",
       "      <td>-1.5</td>\n",
       "      <td>1.2</td>\n",
       "      <td>-3.0</td>\n",
       "      <td>0.0</td>\n",
       "      <td>1.0</td>\n",
       "    </tr>\n",
       "  </tbody>\n",
       "</table>\n",
       "<p>6574 rows × 9 columns</p>\n",
       "</div>"
      ],
      "text/plain": [
       "           DATE   WIND  IND  RAIN  T_MIN  T_MAX  T_MIN_G  IND_1  IND_2\n",
       "0    1961-01-01  13.67    0   0.2    3.7    9.5     -1.0    0.0    0.0\n",
       "1    1961-01-02  11.50    0   5.1    4.2    7.2      1.1    0.0    0.0\n",
       "2    1961-01-03  11.25    0   0.4    0.5    5.5     -0.5    0.0    0.0\n",
       "3    1961-01-04   8.63    0   0.2    0.4    5.6     -3.2    0.0    0.0\n",
       "4    1961-01-05  11.92    0  10.4   -1.5    7.2     -7.5    0.0    1.0\n",
       "...         ...    ...  ...   ...    ...    ...      ...    ...    ...\n",
       "6569 1978-12-27  14.46    0  16.8    4.0    9.8      0.0    0.0    0.0\n",
       "6570 1978-12-28  14.33    0  16.0    8.5    9.1      8.0    0.0    0.0\n",
       "6571 1978-12-29  19.17    0  14.7    3.5    5.0      3.2    0.0    0.0\n",
       "6572 1978-12-30  18.08    0   4.9    0.3    2.9     -0.5    0.0    0.0\n",
       "6573 1978-12-31  19.25    0   0.5   -1.5    1.2     -3.0    0.0    1.0\n",
       "\n",
       "[6574 rows x 9 columns]"
      ]
     },
     "execution_count": 38,
     "metadata": {},
     "output_type": "execute_result"
    }
   ],
   "source": [
    "df_imputed = pd.DataFrame(df_imputed, columns=['T_MIN','T_MAX','T_MIN_G','IND_1','IND_2'])\n",
    "df_imputed = pd.concat([df[['DATE','WIND','IND','RAIN']],df_imputed], axis=1)\n",
    "df_imputed"
   ]
  },
  {
   "cell_type": "code",
   "execution_count": 39,
   "id": "1c47cd54-c982-4974-8663-56614a0f3efd",
   "metadata": {},
   "outputs": [
    {
     "name": "stdout",
     "output_type": "stream",
     "text": [
      "<class 'pandas.core.frame.DataFrame'>\n",
      "RangeIndex: 6574 entries, 0 to 6573\n",
      "Data columns (total 9 columns):\n",
      " #   Column   Non-Null Count  Dtype         \n",
      "---  ------   --------------  -----         \n",
      " 0   DATE     6574 non-null   datetime64[ns]\n",
      " 1   WIND     6574 non-null   float64       \n",
      " 2   IND      6574 non-null   int64         \n",
      " 3   RAIN     6574 non-null   float64       \n",
      " 4   T_MIN    6574 non-null   float64       \n",
      " 5   T_MAX    6574 non-null   float64       \n",
      " 6   T_MIN_G  6574 non-null   float64       \n",
      " 7   IND_1    6574 non-null   float64       \n",
      " 8   IND_2    6574 non-null   float64       \n",
      "dtypes: datetime64[ns](1), float64(7), int64(1)\n",
      "memory usage: 462.4 KB\n"
     ]
    }
   ],
   "source": [
    "df_imputed.info()"
   ]
  },
  {
   "cell_type": "code",
   "execution_count": 40,
   "id": "de38691f-2ae5-4999-a9cd-46a1dc47db3b",
   "metadata": {},
   "outputs": [
    {
     "data": {
      "text/html": [
       "<div>\n",
       "<style scoped>\n",
       "    .dataframe tbody tr th:only-of-type {\n",
       "        vertical-align: middle;\n",
       "    }\n",
       "\n",
       "    .dataframe tbody tr th {\n",
       "        vertical-align: top;\n",
       "    }\n",
       "\n",
       "    .dataframe thead th {\n",
       "        text-align: right;\n",
       "    }\n",
       "</style>\n",
       "<table border=\"1\" class=\"dataframe\">\n",
       "  <thead>\n",
       "    <tr style=\"text-align: right;\">\n",
       "      <th></th>\n",
       "      <th>count</th>\n",
       "      <th>mean</th>\n",
       "      <th>std</th>\n",
       "      <th>min</th>\n",
       "      <th>25%</th>\n",
       "      <th>50%</th>\n",
       "      <th>75%</th>\n",
       "      <th>max</th>\n",
       "    </tr>\n",
       "  </thead>\n",
       "  <tbody>\n",
       "    <tr>\n",
       "      <th>WIND</th>\n",
       "      <td>6574.0</td>\n",
       "      <td>9.80</td>\n",
       "      <td>4.98</td>\n",
       "      <td>0.0</td>\n",
       "      <td>6.0</td>\n",
       "      <td>9.21</td>\n",
       "      <td>12.96</td>\n",
       "      <td>30.37</td>\n",
       "    </tr>\n",
       "    <tr>\n",
       "      <th>IND</th>\n",
       "      <td>6574.0</td>\n",
       "      <td>0.39</td>\n",
       "      <td>1.18</td>\n",
       "      <td>0.0</td>\n",
       "      <td>0.0</td>\n",
       "      <td>0.00</td>\n",
       "      <td>0.00</td>\n",
       "      <td>4.00</td>\n",
       "    </tr>\n",
       "    <tr>\n",
       "      <th>RAIN</th>\n",
       "      <td>6574.0</td>\n",
       "      <td>1.89</td>\n",
       "      <td>4.03</td>\n",
       "      <td>0.0</td>\n",
       "      <td>0.0</td>\n",
       "      <td>0.20</td>\n",
       "      <td>2.00</td>\n",
       "      <td>67.00</td>\n",
       "    </tr>\n",
       "    <tr>\n",
       "      <th>IND_1</th>\n",
       "      <td>6513.0</td>\n",
       "      <td>0.36</td>\n",
       "      <td>1.13</td>\n",
       "      <td>0.0</td>\n",
       "      <td>0.0</td>\n",
       "      <td>0.00</td>\n",
       "      <td>0.00</td>\n",
       "      <td>4.00</td>\n",
       "    </tr>\n",
       "    <tr>\n",
       "      <th>T_MAX</th>\n",
       "      <td>5953.0</td>\n",
       "      <td>13.34</td>\n",
       "      <td>4.89</td>\n",
       "      <td>-0.1</td>\n",
       "      <td>9.6</td>\n",
       "      <td>13.30</td>\n",
       "      <td>17.20</td>\n",
       "      <td>26.80</td>\n",
       "    </tr>\n",
       "    <tr>\n",
       "      <th>IND_2</th>\n",
       "      <td>6513.0</td>\n",
       "      <td>0.46</td>\n",
       "      <td>1.18</td>\n",
       "      <td>0.0</td>\n",
       "      <td>0.0</td>\n",
       "      <td>0.00</td>\n",
       "      <td>0.00</td>\n",
       "      <td>4.00</td>\n",
       "    </tr>\n",
       "    <tr>\n",
       "      <th>T_MIN</th>\n",
       "      <td>5900.0</td>\n",
       "      <td>6.41</td>\n",
       "      <td>4.64</td>\n",
       "      <td>-11.5</td>\n",
       "      <td>3.0</td>\n",
       "      <td>6.50</td>\n",
       "      <td>10.00</td>\n",
       "      <td>18.00</td>\n",
       "    </tr>\n",
       "    <tr>\n",
       "      <th>T_MIN_G</th>\n",
       "      <td>6214.0</td>\n",
       "      <td>2.74</td>\n",
       "      <td>5.57</td>\n",
       "      <td>-14.4</td>\n",
       "      <td>-1.0</td>\n",
       "      <td>3.00</td>\n",
       "      <td>7.00</td>\n",
       "      <td>15.80</td>\n",
       "    </tr>\n",
       "  </tbody>\n",
       "</table>\n",
       "</div>"
      ],
      "text/plain": [
       "          count   mean   std   min  25%    50%    75%    max\n",
       "WIND     6574.0   9.80  4.98   0.0  6.0   9.21  12.96  30.37\n",
       "IND      6574.0   0.39  1.18   0.0  0.0   0.00   0.00   4.00\n",
       "RAIN     6574.0   1.89  4.03   0.0  0.0   0.20   2.00  67.00\n",
       "IND_1    6513.0   0.36  1.13   0.0  0.0   0.00   0.00   4.00\n",
       "T_MAX    5953.0  13.34  4.89  -0.1  9.6  13.30  17.20  26.80\n",
       "IND_2    6513.0   0.46  1.18   0.0  0.0   0.00   0.00   4.00\n",
       "T_MIN    5900.0   6.41  4.64 -11.5  3.0   6.50  10.00  18.00\n",
       "T_MIN_G  6214.0   2.74  5.57 -14.4 -1.0   3.00   7.00  15.80"
      ]
     },
     "execution_count": 40,
     "metadata": {},
     "output_type": "execute_result"
    }
   ],
   "source": [
    "# Check the diff of imputed vs orig, make sure mean/std didn't change too much\n",
    "df.describe().round(2).T"
   ]
  },
  {
   "cell_type": "code",
   "execution_count": 41,
   "id": "c836b7aa-2827-4f3f-95f5-d592a180f1fa",
   "metadata": {},
   "outputs": [
    {
     "data": {
      "text/html": [
       "<div>\n",
       "<style scoped>\n",
       "    .dataframe tbody tr th:only-of-type {\n",
       "        vertical-align: middle;\n",
       "    }\n",
       "\n",
       "    .dataframe tbody tr th {\n",
       "        vertical-align: top;\n",
       "    }\n",
       "\n",
       "    .dataframe thead th {\n",
       "        text-align: right;\n",
       "    }\n",
       "</style>\n",
       "<table border=\"1\" class=\"dataframe\">\n",
       "  <thead>\n",
       "    <tr style=\"text-align: right;\">\n",
       "      <th></th>\n",
       "      <th>count</th>\n",
       "      <th>mean</th>\n",
       "      <th>std</th>\n",
       "      <th>min</th>\n",
       "      <th>25%</th>\n",
       "      <th>50%</th>\n",
       "      <th>75%</th>\n",
       "      <th>max</th>\n",
       "    </tr>\n",
       "  </thead>\n",
       "  <tbody>\n",
       "    <tr>\n",
       "      <th>WIND</th>\n",
       "      <td>6574.0</td>\n",
       "      <td>9.80</td>\n",
       "      <td>4.98</td>\n",
       "      <td>0.0</td>\n",
       "      <td>6.0</td>\n",
       "      <td>9.21</td>\n",
       "      <td>12.96</td>\n",
       "      <td>30.37</td>\n",
       "    </tr>\n",
       "    <tr>\n",
       "      <th>IND</th>\n",
       "      <td>6574.0</td>\n",
       "      <td>0.39</td>\n",
       "      <td>1.18</td>\n",
       "      <td>0.0</td>\n",
       "      <td>0.0</td>\n",
       "      <td>0.00</td>\n",
       "      <td>0.00</td>\n",
       "      <td>4.00</td>\n",
       "    </tr>\n",
       "    <tr>\n",
       "      <th>RAIN</th>\n",
       "      <td>6574.0</td>\n",
       "      <td>1.89</td>\n",
       "      <td>4.03</td>\n",
       "      <td>0.0</td>\n",
       "      <td>0.0</td>\n",
       "      <td>0.20</td>\n",
       "      <td>2.00</td>\n",
       "      <td>67.00</td>\n",
       "    </tr>\n",
       "    <tr>\n",
       "      <th>T_MIN</th>\n",
       "      <td>6574.0</td>\n",
       "      <td>6.68</td>\n",
       "      <td>4.46</td>\n",
       "      <td>-11.5</td>\n",
       "      <td>3.5</td>\n",
       "      <td>7.30</td>\n",
       "      <td>9.60</td>\n",
       "      <td>18.00</td>\n",
       "    </tr>\n",
       "    <tr>\n",
       "      <th>T_MAX</th>\n",
       "      <td>6574.0</td>\n",
       "      <td>13.02</td>\n",
       "      <td>4.76</td>\n",
       "      <td>-0.1</td>\n",
       "      <td>10.0</td>\n",
       "      <td>12.40</td>\n",
       "      <td>16.80</td>\n",
       "      <td>26.80</td>\n",
       "    </tr>\n",
       "    <tr>\n",
       "      <th>T_MIN_G</th>\n",
       "      <td>6574.0</td>\n",
       "      <td>2.86</td>\n",
       "      <td>5.44</td>\n",
       "      <td>-14.4</td>\n",
       "      <td>-0.9</td>\n",
       "      <td>3.40</td>\n",
       "      <td>6.60</td>\n",
       "      <td>15.80</td>\n",
       "    </tr>\n",
       "    <tr>\n",
       "      <th>IND_1</th>\n",
       "      <td>6574.0</td>\n",
       "      <td>0.35</td>\n",
       "      <td>1.12</td>\n",
       "      <td>0.0</td>\n",
       "      <td>0.0</td>\n",
       "      <td>0.00</td>\n",
       "      <td>0.00</td>\n",
       "      <td>4.00</td>\n",
       "    </tr>\n",
       "    <tr>\n",
       "      <th>IND_2</th>\n",
       "      <td>6574.0</td>\n",
       "      <td>0.46</td>\n",
       "      <td>1.17</td>\n",
       "      <td>0.0</td>\n",
       "      <td>0.0</td>\n",
       "      <td>0.00</td>\n",
       "      <td>0.00</td>\n",
       "      <td>4.00</td>\n",
       "    </tr>\n",
       "  </tbody>\n",
       "</table>\n",
       "</div>"
      ],
      "text/plain": [
       "          count   mean   std   min   25%    50%    75%    max\n",
       "WIND     6574.0   9.80  4.98   0.0   6.0   9.21  12.96  30.37\n",
       "IND      6574.0   0.39  1.18   0.0   0.0   0.00   0.00   4.00\n",
       "RAIN     6574.0   1.89  4.03   0.0   0.0   0.20   2.00  67.00\n",
       "T_MIN    6574.0   6.68  4.46 -11.5   3.5   7.30   9.60  18.00\n",
       "T_MAX    6574.0  13.02  4.76  -0.1  10.0  12.40  16.80  26.80\n",
       "T_MIN_G  6574.0   2.86  5.44 -14.4  -0.9   3.40   6.60  15.80\n",
       "IND_1    6574.0   0.35  1.12   0.0   0.0   0.00   0.00   4.00\n",
       "IND_2    6574.0   0.46  1.17   0.0   0.0   0.00   0.00   4.00"
      ]
     },
     "execution_count": 41,
     "metadata": {},
     "output_type": "execute_result"
    }
   ],
   "source": [
    "df_imputed.describe().round(2).T"
   ]
  },
  {
   "cell_type": "markdown",
   "id": "5d0748cd-44df-4334-ae6d-8913aa7b135e",
   "metadata": {},
   "source": [
    "**Outliers**"
   ]
  },
  {
   "cell_type": "code",
   "execution_count": 42,
   "id": "2e84afb4-19a1-4c4a-9118-f5244e399a25",
   "metadata": {},
   "outputs": [],
   "source": [
    "# Remove values outside +/- IQR and replace with Column Mean         \n",
    "df_outliers = df_imputed.copy()\n",
    "df_outliers.drop(['DATE','IND','IND_1','IND_2'],axis=1, inplace=True)\n",
    "# Exclude Quality, as it's changing categorical to continuous\n",
    "columns_to_iterate = [col for col in df_outliers.columns] \n",
    "\n",
    "for col in columns_to_iterate:\n",
    "    # Calculate IQR\n",
    "    q75, q25 = np.percentile(df_outliers[col], [75 ,25])\n",
    "    IQR = q75 - q25\n",
    "\n",
    "    # Calculate lower and upper bounds\n",
    "    lower_bound = q25 - (IQR * 2.5)\n",
    "    upper_bound = q75 + (IQR * 2.5)\n",
    "    \n",
    "    # Replace values in column 'i' that are </> min/max with mean\n",
    "    df_outliers[col] = np.where(df_outliers[col] > upper_bound, \n",
    "                              df_outliers[col].mean(), \n",
    "                              df_outliers[col])\n",
    "    \n",
    "    df_outliers[col] = np.where(df_outliers[col] < lower_bound, \n",
    "                              df_outliers[col].mean(), \n",
    "                              df_outliers[col])"
   ]
  },
  {
   "cell_type": "code",
   "execution_count": 43,
   "id": "8f77746f-1a9a-480f-89b2-0497390503bf",
   "metadata": {},
   "outputs": [
    {
     "data": {
      "text/html": [
       "<div>\n",
       "<style scoped>\n",
       "    .dataframe tbody tr th:only-of-type {\n",
       "        vertical-align: middle;\n",
       "    }\n",
       "\n",
       "    .dataframe tbody tr th {\n",
       "        vertical-align: top;\n",
       "    }\n",
       "\n",
       "    .dataframe thead th {\n",
       "        text-align: right;\n",
       "    }\n",
       "</style>\n",
       "<table border=\"1\" class=\"dataframe\">\n",
       "  <thead>\n",
       "    <tr style=\"text-align: right;\">\n",
       "      <th></th>\n",
       "      <th>WIND</th>\n",
       "      <th>RAIN</th>\n",
       "      <th>T_MIN</th>\n",
       "      <th>T_MAX</th>\n",
       "      <th>T_MIN_G</th>\n",
       "      <th>DATE</th>\n",
       "      <th>IND</th>\n",
       "      <th>IND_1</th>\n",
       "      <th>IND_2</th>\n",
       "    </tr>\n",
       "  </thead>\n",
       "  <tbody>\n",
       "    <tr>\n",
       "      <th>0</th>\n",
       "      <td>13.67</td>\n",
       "      <td>0.200000</td>\n",
       "      <td>3.7</td>\n",
       "      <td>9.5</td>\n",
       "      <td>-1.0</td>\n",
       "      <td>1961-01-01</td>\n",
       "      <td>0</td>\n",
       "      <td>0.0</td>\n",
       "      <td>0.0</td>\n",
       "    </tr>\n",
       "    <tr>\n",
       "      <th>1</th>\n",
       "      <td>11.50</td>\n",
       "      <td>5.100000</td>\n",
       "      <td>4.2</td>\n",
       "      <td>7.2</td>\n",
       "      <td>1.1</td>\n",
       "      <td>1961-01-02</td>\n",
       "      <td>0</td>\n",
       "      <td>0.0</td>\n",
       "      <td>0.0</td>\n",
       "    </tr>\n",
       "    <tr>\n",
       "      <th>2</th>\n",
       "      <td>11.25</td>\n",
       "      <td>0.400000</td>\n",
       "      <td>0.5</td>\n",
       "      <td>5.5</td>\n",
       "      <td>-0.5</td>\n",
       "      <td>1961-01-03</td>\n",
       "      <td>0</td>\n",
       "      <td>0.0</td>\n",
       "      <td>0.0</td>\n",
       "    </tr>\n",
       "    <tr>\n",
       "      <th>3</th>\n",
       "      <td>8.63</td>\n",
       "      <td>0.200000</td>\n",
       "      <td>0.4</td>\n",
       "      <td>5.6</td>\n",
       "      <td>-3.2</td>\n",
       "      <td>1961-01-04</td>\n",
       "      <td>0</td>\n",
       "      <td>0.0</td>\n",
       "      <td>0.0</td>\n",
       "    </tr>\n",
       "    <tr>\n",
       "      <th>4</th>\n",
       "      <td>11.92</td>\n",
       "      <td>1.885169</td>\n",
       "      <td>-1.5</td>\n",
       "      <td>7.2</td>\n",
       "      <td>-7.5</td>\n",
       "      <td>1961-01-05</td>\n",
       "      <td>0</td>\n",
       "      <td>0.0</td>\n",
       "      <td>1.0</td>\n",
       "    </tr>\n",
       "    <tr>\n",
       "      <th>...</th>\n",
       "      <td>...</td>\n",
       "      <td>...</td>\n",
       "      <td>...</td>\n",
       "      <td>...</td>\n",
       "      <td>...</td>\n",
       "      <td>...</td>\n",
       "      <td>...</td>\n",
       "      <td>...</td>\n",
       "      <td>...</td>\n",
       "    </tr>\n",
       "    <tr>\n",
       "      <th>6569</th>\n",
       "      <td>14.46</td>\n",
       "      <td>1.885169</td>\n",
       "      <td>4.0</td>\n",
       "      <td>9.8</td>\n",
       "      <td>0.0</td>\n",
       "      <td>1978-12-27</td>\n",
       "      <td>0</td>\n",
       "      <td>0.0</td>\n",
       "      <td>0.0</td>\n",
       "    </tr>\n",
       "    <tr>\n",
       "      <th>6570</th>\n",
       "      <td>14.33</td>\n",
       "      <td>1.885169</td>\n",
       "      <td>8.5</td>\n",
       "      <td>9.1</td>\n",
       "      <td>8.0</td>\n",
       "      <td>1978-12-28</td>\n",
       "      <td>0</td>\n",
       "      <td>0.0</td>\n",
       "      <td>0.0</td>\n",
       "    </tr>\n",
       "    <tr>\n",
       "      <th>6571</th>\n",
       "      <td>19.17</td>\n",
       "      <td>1.885169</td>\n",
       "      <td>3.5</td>\n",
       "      <td>5.0</td>\n",
       "      <td>3.2</td>\n",
       "      <td>1978-12-29</td>\n",
       "      <td>0</td>\n",
       "      <td>0.0</td>\n",
       "      <td>0.0</td>\n",
       "    </tr>\n",
       "    <tr>\n",
       "      <th>6572</th>\n",
       "      <td>18.08</td>\n",
       "      <td>4.900000</td>\n",
       "      <td>0.3</td>\n",
       "      <td>2.9</td>\n",
       "      <td>-0.5</td>\n",
       "      <td>1978-12-30</td>\n",
       "      <td>0</td>\n",
       "      <td>0.0</td>\n",
       "      <td>0.0</td>\n",
       "    </tr>\n",
       "    <tr>\n",
       "      <th>6573</th>\n",
       "      <td>19.25</td>\n",
       "      <td>0.500000</td>\n",
       "      <td>-1.5</td>\n",
       "      <td>1.2</td>\n",
       "      <td>-3.0</td>\n",
       "      <td>1978-12-31</td>\n",
       "      <td>0</td>\n",
       "      <td>0.0</td>\n",
       "      <td>1.0</td>\n",
       "    </tr>\n",
       "  </tbody>\n",
       "</table>\n",
       "<p>6574 rows × 9 columns</p>\n",
       "</div>"
      ],
      "text/plain": [
       "       WIND      RAIN  T_MIN  T_MAX  T_MIN_G       DATE  IND  IND_1  IND_2\n",
       "0     13.67  0.200000    3.7    9.5     -1.0 1961-01-01    0    0.0    0.0\n",
       "1     11.50  5.100000    4.2    7.2      1.1 1961-01-02    0    0.0    0.0\n",
       "2     11.25  0.400000    0.5    5.5     -0.5 1961-01-03    0    0.0    0.0\n",
       "3      8.63  0.200000    0.4    5.6     -3.2 1961-01-04    0    0.0    0.0\n",
       "4     11.92  1.885169   -1.5    7.2     -7.5 1961-01-05    0    0.0    1.0\n",
       "...     ...       ...    ...    ...      ...        ...  ...    ...    ...\n",
       "6569  14.46  1.885169    4.0    9.8      0.0 1978-12-27    0    0.0    0.0\n",
       "6570  14.33  1.885169    8.5    9.1      8.0 1978-12-28    0    0.0    0.0\n",
       "6571  19.17  1.885169    3.5    5.0      3.2 1978-12-29    0    0.0    0.0\n",
       "6572  18.08  4.900000    0.3    2.9     -0.5 1978-12-30    0    0.0    0.0\n",
       "6573  19.25  0.500000   -1.5    1.2     -3.0 1978-12-31    0    0.0    1.0\n",
       "\n",
       "[6574 rows x 9 columns]"
      ]
     },
     "execution_count": 43,
     "metadata": {},
     "output_type": "execute_result"
    }
   ],
   "source": [
    "# Add Dropped columns back in\n",
    "df_outliers = pd.concat([df_outliers,df_imputed[['DATE','IND','IND_1','IND_2']]], axis=1)\n",
    "df_outliers"
   ]
  },
  {
   "cell_type": "code",
   "execution_count": 44,
   "id": "50fcda31-7232-4b0d-8bae-d11b44facb9b",
   "metadata": {},
   "outputs": [
    {
     "data": {
      "text/html": [
       "<div>\n",
       "<style scoped>\n",
       "    .dataframe tbody tr th:only-of-type {\n",
       "        vertical-align: middle;\n",
       "    }\n",
       "\n",
       "    .dataframe tbody tr th {\n",
       "        vertical-align: top;\n",
       "    }\n",
       "\n",
       "    .dataframe thead th {\n",
       "        text-align: right;\n",
       "    }\n",
       "</style>\n",
       "<table border=\"1\" class=\"dataframe\">\n",
       "  <thead>\n",
       "    <tr style=\"text-align: right;\">\n",
       "      <th></th>\n",
       "      <th>count</th>\n",
       "      <th>mean</th>\n",
       "      <th>std</th>\n",
       "      <th>min</th>\n",
       "      <th>25%</th>\n",
       "      <th>50%</th>\n",
       "      <th>75%</th>\n",
       "      <th>max</th>\n",
       "    </tr>\n",
       "  </thead>\n",
       "  <tbody>\n",
       "    <tr>\n",
       "      <th>WIND</th>\n",
       "      <td>6574.0</td>\n",
       "      <td>9.79</td>\n",
       "      <td>4.97</td>\n",
       "      <td>0.0</td>\n",
       "      <td>6.0</td>\n",
       "      <td>9.21</td>\n",
       "      <td>12.96</td>\n",
       "      <td>29.58</td>\n",
       "    </tr>\n",
       "    <tr>\n",
       "      <th>RAIN</th>\n",
       "      <td>6574.0</td>\n",
       "      <td>1.04</td>\n",
       "      <td>1.54</td>\n",
       "      <td>0.0</td>\n",
       "      <td>0.0</td>\n",
       "      <td>0.20</td>\n",
       "      <td>1.89</td>\n",
       "      <td>7.00</td>\n",
       "    </tr>\n",
       "    <tr>\n",
       "      <th>T_MIN</th>\n",
       "      <td>6574.0</td>\n",
       "      <td>6.68</td>\n",
       "      <td>4.46</td>\n",
       "      <td>-11.5</td>\n",
       "      <td>3.5</td>\n",
       "      <td>7.30</td>\n",
       "      <td>9.60</td>\n",
       "      <td>18.00</td>\n",
       "    </tr>\n",
       "    <tr>\n",
       "      <th>T_MAX</th>\n",
       "      <td>6574.0</td>\n",
       "      <td>13.02</td>\n",
       "      <td>4.76</td>\n",
       "      <td>-0.1</td>\n",
       "      <td>10.0</td>\n",
       "      <td>12.40</td>\n",
       "      <td>16.80</td>\n",
       "      <td>26.80</td>\n",
       "    </tr>\n",
       "    <tr>\n",
       "      <th>T_MIN_G</th>\n",
       "      <td>6574.0</td>\n",
       "      <td>2.86</td>\n",
       "      <td>5.44</td>\n",
       "      <td>-14.4</td>\n",
       "      <td>-0.9</td>\n",
       "      <td>3.40</td>\n",
       "      <td>6.60</td>\n",
       "      <td>15.80</td>\n",
       "    </tr>\n",
       "    <tr>\n",
       "      <th>IND</th>\n",
       "      <td>6574.0</td>\n",
       "      <td>0.39</td>\n",
       "      <td>1.18</td>\n",
       "      <td>0.0</td>\n",
       "      <td>0.0</td>\n",
       "      <td>0.00</td>\n",
       "      <td>0.00</td>\n",
       "      <td>4.00</td>\n",
       "    </tr>\n",
       "    <tr>\n",
       "      <th>IND_1</th>\n",
       "      <td>6574.0</td>\n",
       "      <td>0.35</td>\n",
       "      <td>1.12</td>\n",
       "      <td>0.0</td>\n",
       "      <td>0.0</td>\n",
       "      <td>0.00</td>\n",
       "      <td>0.00</td>\n",
       "      <td>4.00</td>\n",
       "    </tr>\n",
       "    <tr>\n",
       "      <th>IND_2</th>\n",
       "      <td>6574.0</td>\n",
       "      <td>0.46</td>\n",
       "      <td>1.17</td>\n",
       "      <td>0.0</td>\n",
       "      <td>0.0</td>\n",
       "      <td>0.00</td>\n",
       "      <td>0.00</td>\n",
       "      <td>4.00</td>\n",
       "    </tr>\n",
       "  </tbody>\n",
       "</table>\n",
       "</div>"
      ],
      "text/plain": [
       "          count   mean   std   min   25%    50%    75%    max\n",
       "WIND     6574.0   9.79  4.97   0.0   6.0   9.21  12.96  29.58\n",
       "RAIN     6574.0   1.04  1.54   0.0   0.0   0.20   1.89   7.00\n",
       "T_MIN    6574.0   6.68  4.46 -11.5   3.5   7.30   9.60  18.00\n",
       "T_MAX    6574.0  13.02  4.76  -0.1  10.0  12.40  16.80  26.80\n",
       "T_MIN_G  6574.0   2.86  5.44 -14.4  -0.9   3.40   6.60  15.80\n",
       "IND      6574.0   0.39  1.18   0.0   0.0   0.00   0.00   4.00\n",
       "IND_1    6574.0   0.35  1.12   0.0   0.0   0.00   0.00   4.00\n",
       "IND_2    6574.0   0.46  1.17   0.0   0.0   0.00   0.00   4.00"
      ]
     },
     "execution_count": 44,
     "metadata": {},
     "output_type": "execute_result"
    }
   ],
   "source": [
    "# Quick View of Outlier transformation made\n",
    "df_outliers.describe().round(2).T"
   ]
  },
  {
   "cell_type": "markdown",
   "id": "4ec65ab2-02fd-49ba-97af-5f557440e14b",
   "metadata": {},
   "source": [
    "**Scale/Normalize**"
   ]
  },
  {
   "cell_type": "code",
   "execution_count": 45,
   "id": "a6c04090-5164-46df-b086-edeae55ea40a",
   "metadata": {},
   "outputs": [],
   "source": [
    "# Import modules\n",
    "from sklearn.pipeline import Pipeline\n",
    "from sklearn.preprocessing import StandardScaler\n",
    "\n",
    "# Move df_outliers to df\n",
    "df_before_outlier = df.copy()\n",
    "df = df_outliers.copy()\n",
    "\n",
    "# Separate features and target variable\n",
    "y = df['WIND'].copy()\n",
    "X = df.drop(['WIND','DATE'], axis=1) # all features\n",
    "\n",
    "# Pipeline to scale\n",
    "pipeline = Pipeline([\n",
    "        ('std_scaler', StandardScaler()),\n",
    "    ])\n",
    "\n",
    "# Run the transformation pipeline\n",
    "X = pipeline.fit_transform(X)"
   ]
  },
  {
   "cell_type": "markdown",
   "id": "a2a8c2c7-5a49-4f26-88d5-7d750e833300",
   "metadata": {},
   "source": [
    "**Test/Train Split**"
   ]
  },
  {
   "cell_type": "code",
   "execution_count": 47,
   "id": "1433740a-a9a0-46e5-b0a0-21d75dab777e",
   "metadata": {},
   "outputs": [],
   "source": [
    "# Train Test Split\n",
    "X_train, X_test, y_train, y_test = train_test_split(X,y,test_size=0.15,random_state=6047)\n",
    "\n",
    "X_train2, X_valid, y_train2, y_valid = train_test_split(X_train,y_train,test_size=0.15,random_state=6047)"
   ]
  },
  {
   "cell_type": "markdown",
   "id": "ef8be2c6-4e99-48a9-aa47-fcfa6cd0c566",
   "metadata": {},
   "source": [
    "## Modeling"
   ]
  },
  {
   "cell_type": "markdown",
   "id": "fc6f7979-94e8-4b94-b394-42ae94d11927",
   "metadata": {},
   "source": [
    "**Linear Regression**"
   ]
  },
  {
   "cell_type": "code",
   "execution_count": 51,
   "id": "e68900d6-460a-4b45-8eaa-16555e497ab5",
   "metadata": {},
   "outputs": [],
   "source": [
    "lr = LinearRegression()\n",
    "lr.fit(X_train2, y_train2)\n",
    "\n",
    "y_pred = lr.predict(X_valid)"
   ]
  },
  {
   "cell_type": "code",
   "execution_count": 54,
   "id": "fd22b5b8-1942-4af3-b94f-90dae1ffa934",
   "metadata": {},
   "outputs": [
    {
     "name": "stdout",
     "output_type": "stream",
     "text": [
      "MSE:  20.833950918764312 \n",
      "R^2:  0.08579288019836318\n"
     ]
    }
   ],
   "source": [
    "# Metrics\n",
    "mse = mean_squared_error(y_pred, y_valid)\n",
    "r2 = r2_score(y_valid, y_pred)\n",
    "\n",
    "print('MSE: ',mse, '\\nR^2: ',r2)"
   ]
  },
  {
   "cell_type": "markdown",
   "id": "4a9cdeea-1903-4538-8f59-306e43dfcab4",
   "metadata": {},
   "source": [
    "**Decision Tree**"
   ]
  },
  {
   "cell_type": "code",
   "execution_count": 64,
   "id": "bafcdf6d-b53d-4772-9aa3-5734d0ac4e08",
   "metadata": {},
   "outputs": [],
   "source": [
    "dt = DecisionTreeRegressor(random_state=6047)\n",
    "dt.fit(X_train2, y_train2)\n",
    "y_pred = dt.predict(X_valid)"
   ]
  },
  {
   "cell_type": "code",
   "execution_count": 65,
   "id": "f5865db7-03cb-4103-8d2d-fb67af65f6c5",
   "metadata": {},
   "outputs": [
    {
     "name": "stdout",
     "output_type": "stream",
     "text": [
      "MSE:  39.1179853380347 \n",
      "R^2:  -0.7165222692407327\n"
     ]
    }
   ],
   "source": [
    "# Metrics\n",
    "del(mse,r2)\n",
    "mse = mean_squared_error(y_pred, y_valid)\n",
    "r2 = r2_score(y_valid, y_pred)\n",
    "\n",
    "print('MSE: ',mse, '\\nR^2: ',r2)"
   ]
  },
  {
   "cell_type": "markdown",
   "id": "6a13de71-014e-46a6-ae8a-7e110d41cd9f",
   "metadata": {},
   "source": [
    "**Random Forest**"
   ]
  },
  {
   "cell_type": "code",
   "execution_count": 68,
   "id": "22a37dea-5b0f-48ea-a400-04b6a68afeda",
   "metadata": {},
   "outputs": [],
   "source": [
    "rf = RandomForestRegressor(random_state=6047)\n",
    "rf.fit(X_train2, y_train2)\n",
    "y_pred = rf.predict(X_valid)"
   ]
  },
  {
   "cell_type": "code",
   "execution_count": 69,
   "id": "bed6c66a-5067-4302-8cff-b0dd6f79e494",
   "metadata": {},
   "outputs": [
    {
     "name": "stdout",
     "output_type": "stream",
     "text": [
      "MSE:  20.624260693200206 \n",
      "R^2:  0.094994221696718\n"
     ]
    }
   ],
   "source": [
    "# Metrics\n",
    "del(mse,r2)\n",
    "mse = mean_squared_error(y_pred, y_valid)\n",
    "r2 = r2_score(y_valid, y_pred)\n",
    "\n",
    "print('MSE: ',mse, '\\nR^2: ',r2)"
   ]
  },
  {
   "cell_type": "markdown",
   "id": "a7a4ec4f-0a2c-4c66-9546-4c5d73821cbf",
   "metadata": {},
   "source": [
    "**Gradient Boosting**"
   ]
  },
  {
   "cell_type": "code",
   "execution_count": 72,
   "id": "2f24fa9c-9404-44fc-8426-317d824c039f",
   "metadata": {},
   "outputs": [],
   "source": [
    "gb = GradientBoostingRegressor(n_estimators=300, learning_rate=0.05, \n",
    "                                      max_depth=4, random_state=6047)\n",
    "gb.fit(X_train2, y_train2)\n",
    "y_pred = rf.predict(X_valid)"
   ]
  },
  {
   "cell_type": "code",
   "execution_count": 73,
   "id": "f5b254d7-b03e-4d1a-8240-813ebf04825c",
   "metadata": {},
   "outputs": [
    {
     "name": "stdout",
     "output_type": "stream",
     "text": [
      "MSE:  20.624260693200206 \n",
      "R^2:  0.094994221696718\n"
     ]
    }
   ],
   "source": [
    "# Metrics\n",
    "del(mse,r2)\n",
    "mse = mean_squared_error(y_pred, y_valid)\n",
    "r2 = r2_score(y_valid, y_pred)\n",
    "\n",
    "print('MSE: ',mse, '\\nR^2: ',r2)"
   ]
  },
  {
   "cell_type": "markdown",
   "id": "56e1a8ef-9d0b-4d05-9e2f-052b685ddce8",
   "metadata": {},
   "source": [
    "**SVM**"
   ]
  },
  {
   "cell_type": "code",
   "execution_count": 146,
   "id": "769c088b-1891-4726-b950-ed0569642d5f",
   "metadata": {},
   "outputs": [],
   "source": [
    "svm = SVR(kernel='rbf',degree=2,C=10,epsilon=1)  #rbf 18.75 .176\n",
    "svm.fit(X_train2, y_train2)\n",
    "y_pred = svm.predict(X_valid)"
   ]
  },
  {
   "cell_type": "code",
   "execution_count": 147,
   "id": "bd4aa477-10a9-4d85-82e8-ab948ad58082",
   "metadata": {},
   "outputs": [
    {
     "name": "stdout",
     "output_type": "stream",
     "text": [
      "MSE:  18.759422866609064 \n",
      "R^2:  0.17682450079224687\n"
     ]
    }
   ],
   "source": [
    "# Metrics\n",
    "del(mse,r2)\n",
    "mse = mean_squared_error(y_pred, y_valid)\n",
    "r2 = r2_score(y_valid, y_pred)\n",
    "\n",
    "print('MSE: ',mse, '\\nR^2: ',r2)"
   ]
  },
  {
   "cell_type": "markdown",
   "id": "58da3657-e8a3-4298-af4d-ca015e7278a3",
   "metadata": {},
   "source": [
    "**Ridge Regression**"
   ]
  },
  {
   "cell_type": "code",
   "execution_count": 78,
   "id": "0faaf014-cc2a-4a07-b86a-b7fb1fca792c",
   "metadata": {},
   "outputs": [],
   "source": [
    "ridge = Ridge()\n",
    "ridge.fit(X_train2, y_train2)\n",
    "y_pred = ridge.predict(X_valid)"
   ]
  },
  {
   "cell_type": "code",
   "execution_count": 79,
   "id": "25cfc49b-8521-4b9a-bad4-b4d814ef84c8",
   "metadata": {},
   "outputs": [
    {
     "name": "stdout",
     "output_type": "stream",
     "text": [
      "MSE:  20.83297819869156 \n",
      "R^2:  0.08583556377861878\n"
     ]
    }
   ],
   "source": [
    "# Metrics\n",
    "del(mse,r2)\n",
    "mse = mean_squared_error(y_pred, y_valid)\n",
    "r2 = r2_score(y_valid, y_pred)\n",
    "\n",
    "print('MSE: ',mse, '\\nR^2: ',r2)"
   ]
  },
  {
   "cell_type": "markdown",
   "id": "1a2b8007-bb7b-4c17-8122-2e7aecc5a8c6",
   "metadata": {},
   "source": [
    "**Lasso Regression**"
   ]
  },
  {
   "cell_type": "code",
   "execution_count": 80,
   "id": "8bdc8f0f-21ae-433d-8e58-003bbb153518",
   "metadata": {},
   "outputs": [],
   "source": [
    "lasso = Lasso()\n",
    "lasso.fit(X_train2, y_train2)\n",
    "y_pred = lasso.predict(X_valid)"
   ]
  },
  {
   "cell_type": "code",
   "execution_count": 81,
   "id": "af3d93dd-8253-4360-83c5-1c00e51442fb",
   "metadata": {},
   "outputs": [
    {
     "name": "stdout",
     "output_type": "stream",
     "text": [
      "MSE:  22.672357320158792 \n",
      "R^2:  0.005122428981641947\n"
     ]
    }
   ],
   "source": [
    "# Metrics\n",
    "del(mse,r2)\n",
    "mse = mean_squared_error(y_pred, y_valid)\n",
    "r2 = r2_score(y_valid, y_pred)\n",
    "\n",
    "print('MSE: ',mse, '\\nR^2: ',r2)"
   ]
  },
  {
   "cell_type": "markdown",
   "id": "b41061ea-ecdd-471a-9498-c3e8e4bd319f",
   "metadata": {},
   "source": [
    "**Elastic Net**"
   ]
  },
  {
   "cell_type": "code",
   "execution_count": 84,
   "id": "d8af1089-b9e9-4617-b6a4-d0f4e6ae4d1d",
   "metadata": {},
   "outputs": [],
   "source": [
    "en = ElasticNet()\n",
    "en.fit(X_train2, y_train2)\n",
    "y_pred = en.predict(X_valid)"
   ]
  },
  {
   "cell_type": "code",
   "execution_count": 85,
   "id": "be6c7e60-e9e9-4699-a703-3c1061f216f6",
   "metadata": {},
   "outputs": [
    {
     "name": "stdout",
     "output_type": "stream",
     "text": [
      "MSE:  22.079235151388872 \n",
      "R^2:  0.031149009907935565\n"
     ]
    }
   ],
   "source": [
    "# Metrics\n",
    "del(mse,r2)\n",
    "mse = mean_squared_error(y_pred, y_valid)\n",
    "r2 = r2_score(y_valid, y_pred)\n",
    "\n",
    "print('MSE: ',mse, '\\nR^2: ',r2)"
   ]
  },
  {
   "cell_type": "markdown",
   "id": "0c44349e-6ee6-4294-a4a5-08da7573022c",
   "metadata": {},
   "source": [
    "**Ada Booster**"
   ]
  },
  {
   "cell_type": "code",
   "execution_count": 87,
   "id": "46543653-b9c0-4fe9-892c-8727a63b91a2",
   "metadata": {},
   "outputs": [],
   "source": [
    "ab = AdaBoostRegressor()\n",
    "ab.fit(X_train2, y_train2)\n",
    "y_pred = ab.predict(X_valid)"
   ]
  },
  {
   "cell_type": "code",
   "execution_count": 88,
   "id": "bf788faf-04ec-4b12-bce5-b117cb9b8ba1",
   "metadata": {},
   "outputs": [
    {
     "name": "stdout",
     "output_type": "stream",
     "text": [
      "MSE:  21.088566543325886 \n",
      "R^2:  0.07462018339713938\n"
     ]
    }
   ],
   "source": [
    "# Metrics\n",
    "del(mse,r2)\n",
    "mse = mean_squared_error(y_pred, y_valid)\n",
    "r2 = r2_score(y_valid, y_pred)\n",
    "\n",
    "print('MSE: ',mse, '\\nR^2: ',r2)"
   ]
  },
  {
   "cell_type": "markdown",
   "id": "369a3163-6ece-464d-be8f-5816aa66c72d",
   "metadata": {},
   "source": [
    "**KNN Regressor**"
   ]
  },
  {
   "cell_type": "code",
   "execution_count": 90,
   "id": "045d0990-2f8f-4d74-a911-af6447860051",
   "metadata": {},
   "outputs": [],
   "source": [
    "knn = KNeighborsRegressor()\n",
    "knn.fit(X_train2, y_train2)\n",
    "y_pred = knn.predict(X_valid)"
   ]
  },
  {
   "cell_type": "code",
   "execution_count": 91,
   "id": "1b313be1-1b2d-4699-b57d-8b3f5478d3d5",
   "metadata": {},
   "outputs": [
    {
     "name": "stdout",
     "output_type": "stream",
     "text": [
      "MSE:  22.34275585136429 \n",
      "R^2:  0.019585552689859065\n"
     ]
    }
   ],
   "source": [
    "# Metrics\n",
    "del(mse,r2)\n",
    "mse = mean_squared_error(y_pred, y_valid)\n",
    "r2 = r2_score(y_valid, y_pred)\n",
    "\n",
    "print('MSE: ',mse, '\\nR^2: ',r2)"
   ]
  },
  {
   "cell_type": "markdown",
   "id": "03a421a7-f2bd-4634-ba72-7f3dcf839e20",
   "metadata": {},
   "source": [
    "**Neural Net**"
   ]
  },
  {
   "cell_type": "code",
   "execution_count": 148,
   "id": "f4c370b2-c860-4705-9433-8171b01e8035",
   "metadata": {},
   "outputs": [],
   "source": [
    "# Prep New DF\n",
    "df_nn = df_outliers.copy()\n",
    "\n",
    "# Separate features and target variable\n",
    "y = df_nn['WIND'].copy()\n",
    "X = df_nn.drop(['WIND','DATE'], axis=1)"
   ]
  },
  {
   "cell_type": "code",
   "execution_count": 151,
   "id": "b4dfde0a-22e3-4fa3-a75b-58c9761842ce",
   "metadata": {},
   "outputs": [
    {
     "data": {
      "text/html": [
       "<div>\n",
       "<style scoped>\n",
       "    .dataframe tbody tr th:only-of-type {\n",
       "        vertical-align: middle;\n",
       "    }\n",
       "\n",
       "    .dataframe tbody tr th {\n",
       "        vertical-align: top;\n",
       "    }\n",
       "\n",
       "    .dataframe thead th {\n",
       "        text-align: right;\n",
       "    }\n",
       "</style>\n",
       "<table border=\"1\" class=\"dataframe\">\n",
       "  <thead>\n",
       "    <tr style=\"text-align: right;\">\n",
       "      <th></th>\n",
       "      <th>RAIN</th>\n",
       "      <th>T_MIN</th>\n",
       "      <th>T_MAX</th>\n",
       "      <th>T_MIN_G</th>\n",
       "      <th>IND</th>\n",
       "      <th>IND_1</th>\n",
       "      <th>IND_2</th>\n",
       "    </tr>\n",
       "  </thead>\n",
       "  <tbody>\n",
       "    <tr>\n",
       "      <th>0</th>\n",
       "      <td>0.200000</td>\n",
       "      <td>3.7</td>\n",
       "      <td>9.5</td>\n",
       "      <td>-1.0</td>\n",
       "      <td>0</td>\n",
       "      <td>0.0</td>\n",
       "      <td>0.0</td>\n",
       "    </tr>\n",
       "    <tr>\n",
       "      <th>1</th>\n",
       "      <td>5.100000</td>\n",
       "      <td>4.2</td>\n",
       "      <td>7.2</td>\n",
       "      <td>1.1</td>\n",
       "      <td>0</td>\n",
       "      <td>0.0</td>\n",
       "      <td>0.0</td>\n",
       "    </tr>\n",
       "    <tr>\n",
       "      <th>2</th>\n",
       "      <td>0.400000</td>\n",
       "      <td>0.5</td>\n",
       "      <td>5.5</td>\n",
       "      <td>-0.5</td>\n",
       "      <td>0</td>\n",
       "      <td>0.0</td>\n",
       "      <td>0.0</td>\n",
       "    </tr>\n",
       "    <tr>\n",
       "      <th>3</th>\n",
       "      <td>0.200000</td>\n",
       "      <td>0.4</td>\n",
       "      <td>5.6</td>\n",
       "      <td>-3.2</td>\n",
       "      <td>0</td>\n",
       "      <td>0.0</td>\n",
       "      <td>0.0</td>\n",
       "    </tr>\n",
       "    <tr>\n",
       "      <th>4</th>\n",
       "      <td>1.885169</td>\n",
       "      <td>-1.5</td>\n",
       "      <td>7.2</td>\n",
       "      <td>-7.5</td>\n",
       "      <td>0</td>\n",
       "      <td>0.0</td>\n",
       "      <td>1.0</td>\n",
       "    </tr>\n",
       "    <tr>\n",
       "      <th>...</th>\n",
       "      <td>...</td>\n",
       "      <td>...</td>\n",
       "      <td>...</td>\n",
       "      <td>...</td>\n",
       "      <td>...</td>\n",
       "      <td>...</td>\n",
       "      <td>...</td>\n",
       "    </tr>\n",
       "    <tr>\n",
       "      <th>6569</th>\n",
       "      <td>1.885169</td>\n",
       "      <td>4.0</td>\n",
       "      <td>9.8</td>\n",
       "      <td>0.0</td>\n",
       "      <td>0</td>\n",
       "      <td>0.0</td>\n",
       "      <td>0.0</td>\n",
       "    </tr>\n",
       "    <tr>\n",
       "      <th>6570</th>\n",
       "      <td>1.885169</td>\n",
       "      <td>8.5</td>\n",
       "      <td>9.1</td>\n",
       "      <td>8.0</td>\n",
       "      <td>0</td>\n",
       "      <td>0.0</td>\n",
       "      <td>0.0</td>\n",
       "    </tr>\n",
       "    <tr>\n",
       "      <th>6571</th>\n",
       "      <td>1.885169</td>\n",
       "      <td>3.5</td>\n",
       "      <td>5.0</td>\n",
       "      <td>3.2</td>\n",
       "      <td>0</td>\n",
       "      <td>0.0</td>\n",
       "      <td>0.0</td>\n",
       "    </tr>\n",
       "    <tr>\n",
       "      <th>6572</th>\n",
       "      <td>4.900000</td>\n",
       "      <td>0.3</td>\n",
       "      <td>2.9</td>\n",
       "      <td>-0.5</td>\n",
       "      <td>0</td>\n",
       "      <td>0.0</td>\n",
       "      <td>0.0</td>\n",
       "    </tr>\n",
       "    <tr>\n",
       "      <th>6573</th>\n",
       "      <td>0.500000</td>\n",
       "      <td>-1.5</td>\n",
       "      <td>1.2</td>\n",
       "      <td>-3.0</td>\n",
       "      <td>0</td>\n",
       "      <td>0.0</td>\n",
       "      <td>1.0</td>\n",
       "    </tr>\n",
       "  </tbody>\n",
       "</table>\n",
       "<p>6574 rows × 7 columns</p>\n",
       "</div>"
      ],
      "text/plain": [
       "          RAIN  T_MIN  T_MAX  T_MIN_G  IND  IND_1  IND_2\n",
       "0     0.200000    3.7    9.5     -1.0    0    0.0    0.0\n",
       "1     5.100000    4.2    7.2      1.1    0    0.0    0.0\n",
       "2     0.400000    0.5    5.5     -0.5    0    0.0    0.0\n",
       "3     0.200000    0.4    5.6     -3.2    0    0.0    0.0\n",
       "4     1.885169   -1.5    7.2     -7.5    0    0.0    1.0\n",
       "...        ...    ...    ...      ...  ...    ...    ...\n",
       "6569  1.885169    4.0    9.8      0.0    0    0.0    0.0\n",
       "6570  1.885169    8.5    9.1      8.0    0    0.0    0.0\n",
       "6571  1.885169    3.5    5.0      3.2    0    0.0    0.0\n",
       "6572  4.900000    0.3    2.9     -0.5    0    0.0    0.0\n",
       "6573  0.500000   -1.5    1.2     -3.0    0    0.0    1.0\n",
       "\n",
       "[6574 rows x 7 columns]"
      ]
     },
     "execution_count": 151,
     "metadata": {},
     "output_type": "execute_result"
    }
   ],
   "source": [
    "X"
   ]
  },
  {
   "cell_type": "code",
   "execution_count": 157,
   "id": "356b42a1-8180-4940-8083-95506e40ed76",
   "metadata": {},
   "outputs": [],
   "source": [
    "# Scale Data\n",
    "scaler = MinMaxScaler()\n",
    "scaler.fit(X)\n",
    "X = scaler.transform(X)"
   ]
  },
  {
   "cell_type": "code",
   "execution_count": 158,
   "id": "db974921-1e57-4dc7-855b-df6640a3050a",
   "metadata": {},
   "outputs": [],
   "source": [
    "# Train Test Split\n",
    "X_train, X_test, y_train, y_test = train_test_split(X,y,test_size=0.15,random_state=6047)\n",
    "\n",
    "X_train2, X_valid, y_train2, y_valid = train_test_split(X_train,y_train,test_size=0.15,random_state=6047)"
   ]
  },
  {
   "cell_type": "code",
   "execution_count": null,
   "id": "ac915639-ed42-48a1-90d3-ea27100d26ad",
   "metadata": {},
   "outputs": [],
   "source": []
  }
 ],
 "metadata": {
  "kernelspec": {
   "display_name": "Python 3 (ipykernel)",
   "language": "python",
   "name": "python3"
  },
  "language_info": {
   "codemirror_mode": {
    "name": "ipython",
    "version": 3
   },
   "file_extension": ".py",
   "mimetype": "text/x-python",
   "name": "python",
   "nbconvert_exporter": "python",
   "pygments_lexer": "ipython3",
   "version": "3.11.1"
  }
 },
 "nbformat": 4,
 "nbformat_minor": 5
}
